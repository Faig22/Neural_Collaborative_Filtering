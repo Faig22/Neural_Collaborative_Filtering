{
  "nbformat": 4,
  "nbformat_minor": 0,
  "metadata": {
    "colab": {
      "provenance": [],
      "gpuType": "T4",
      "authorship_tag": "ABX9TyOMydMkuwKEW8ixBIl5fG0h",
      "include_colab_link": true
    },
    "kernelspec": {
      "name": "python3",
      "display_name": "Python 3"
    },
    "language_info": {
      "name": "python"
    },
    "gpuClass": "standard",
    "widgets": {
      "application/vnd.jupyter.widget-state+json": {
        "3c8f88bc19f141688d0d1af2f2994638": {
          "model_module": "@jupyter-widgets/controls",
          "model_name": "HBoxModel",
          "model_module_version": "1.5.0",
          "state": {
            "_dom_classes": [],
            "_model_module": "@jupyter-widgets/controls",
            "_model_module_version": "1.5.0",
            "_model_name": "HBoxModel",
            "_view_count": null,
            "_view_module": "@jupyter-widgets/controls",
            "_view_module_version": "1.5.0",
            "_view_name": "HBoxView",
            "box_style": "",
            "children": [
              "IPY_MODEL_1362785767a24118a28f73166d07b19c",
              "IPY_MODEL_04adee193bb44989bcedb056534c62bb",
              "IPY_MODEL_88de895b3bc94304a6ef07d175fa1732"
            ],
            "layout": "IPY_MODEL_540e60def159487ca7316c3baf69bc54"
          }
        },
        "1362785767a24118a28f73166d07b19c": {
          "model_module": "@jupyter-widgets/controls",
          "model_name": "HTMLModel",
          "model_module_version": "1.5.0",
          "state": {
            "_dom_classes": [],
            "_model_module": "@jupyter-widgets/controls",
            "_model_module_version": "1.5.0",
            "_model_name": "HTMLModel",
            "_view_count": null,
            "_view_module": "@jupyter-widgets/controls",
            "_view_module_version": "1.5.0",
            "_view_name": "HTMLView",
            "description": "",
            "description_tooltip": null,
            "layout": "IPY_MODEL_a8091c719ef84cb6b0093122433cbb5f",
            "placeholder": "​",
            "style": "IPY_MODEL_adc90cbc93ec4b8ca7ab2c37717347a3",
            "value": "Sanity Checking DataLoader 0: 100%"
          }
        },
        "04adee193bb44989bcedb056534c62bb": {
          "model_module": "@jupyter-widgets/controls",
          "model_name": "FloatProgressModel",
          "model_module_version": "1.5.0",
          "state": {
            "_dom_classes": [],
            "_model_module": "@jupyter-widgets/controls",
            "_model_module_version": "1.5.0",
            "_model_name": "FloatProgressModel",
            "_view_count": null,
            "_view_module": "@jupyter-widgets/controls",
            "_view_module_version": "1.5.0",
            "_view_name": "ProgressView",
            "bar_style": "",
            "description": "",
            "description_tooltip": null,
            "layout": "IPY_MODEL_610bba48afb24b6fb7a565b115b17962",
            "max": 2,
            "min": 0,
            "orientation": "horizontal",
            "style": "IPY_MODEL_ad51c22d6f004c1582b388766c9e8eb9",
            "value": 2
          }
        },
        "88de895b3bc94304a6ef07d175fa1732": {
          "model_module": "@jupyter-widgets/controls",
          "model_name": "HTMLModel",
          "model_module_version": "1.5.0",
          "state": {
            "_dom_classes": [],
            "_model_module": "@jupyter-widgets/controls",
            "_model_module_version": "1.5.0",
            "_model_name": "HTMLModel",
            "_view_count": null,
            "_view_module": "@jupyter-widgets/controls",
            "_view_module_version": "1.5.0",
            "_view_name": "HTMLView",
            "description": "",
            "description_tooltip": null,
            "layout": "IPY_MODEL_d4f36cedbffa4411aff8db601e60920c",
            "placeholder": "​",
            "style": "IPY_MODEL_dd84c7c219ea4161b331c7f904ec897f",
            "value": " 2/2 [00:00&lt;00:00,  4.92it/s]"
          }
        },
        "540e60def159487ca7316c3baf69bc54": {
          "model_module": "@jupyter-widgets/base",
          "model_name": "LayoutModel",
          "model_module_version": "1.2.0",
          "state": {
            "_model_module": "@jupyter-widgets/base",
            "_model_module_version": "1.2.0",
            "_model_name": "LayoutModel",
            "_view_count": null,
            "_view_module": "@jupyter-widgets/base",
            "_view_module_version": "1.2.0",
            "_view_name": "LayoutView",
            "align_content": null,
            "align_items": null,
            "align_self": null,
            "border": null,
            "bottom": null,
            "display": "inline-flex",
            "flex": null,
            "flex_flow": "row wrap",
            "grid_area": null,
            "grid_auto_columns": null,
            "grid_auto_flow": null,
            "grid_auto_rows": null,
            "grid_column": null,
            "grid_gap": null,
            "grid_row": null,
            "grid_template_areas": null,
            "grid_template_columns": null,
            "grid_template_rows": null,
            "height": null,
            "justify_content": null,
            "justify_items": null,
            "left": null,
            "margin": null,
            "max_height": null,
            "max_width": null,
            "min_height": null,
            "min_width": null,
            "object_fit": null,
            "object_position": null,
            "order": null,
            "overflow": null,
            "overflow_x": null,
            "overflow_y": null,
            "padding": null,
            "right": null,
            "top": null,
            "visibility": "hidden",
            "width": "100%"
          }
        },
        "a8091c719ef84cb6b0093122433cbb5f": {
          "model_module": "@jupyter-widgets/base",
          "model_name": "LayoutModel",
          "model_module_version": "1.2.0",
          "state": {
            "_model_module": "@jupyter-widgets/base",
            "_model_module_version": "1.2.0",
            "_model_name": "LayoutModel",
            "_view_count": null,
            "_view_module": "@jupyter-widgets/base",
            "_view_module_version": "1.2.0",
            "_view_name": "LayoutView",
            "align_content": null,
            "align_items": null,
            "align_self": null,
            "border": null,
            "bottom": null,
            "display": null,
            "flex": null,
            "flex_flow": null,
            "grid_area": null,
            "grid_auto_columns": null,
            "grid_auto_flow": null,
            "grid_auto_rows": null,
            "grid_column": null,
            "grid_gap": null,
            "grid_row": null,
            "grid_template_areas": null,
            "grid_template_columns": null,
            "grid_template_rows": null,
            "height": null,
            "justify_content": null,
            "justify_items": null,
            "left": null,
            "margin": null,
            "max_height": null,
            "max_width": null,
            "min_height": null,
            "min_width": null,
            "object_fit": null,
            "object_position": null,
            "order": null,
            "overflow": null,
            "overflow_x": null,
            "overflow_y": null,
            "padding": null,
            "right": null,
            "top": null,
            "visibility": null,
            "width": null
          }
        },
        "adc90cbc93ec4b8ca7ab2c37717347a3": {
          "model_module": "@jupyter-widgets/controls",
          "model_name": "DescriptionStyleModel",
          "model_module_version": "1.5.0",
          "state": {
            "_model_module": "@jupyter-widgets/controls",
            "_model_module_version": "1.5.0",
            "_model_name": "DescriptionStyleModel",
            "_view_count": null,
            "_view_module": "@jupyter-widgets/base",
            "_view_module_version": "1.2.0",
            "_view_name": "StyleView",
            "description_width": ""
          }
        },
        "610bba48afb24b6fb7a565b115b17962": {
          "model_module": "@jupyter-widgets/base",
          "model_name": "LayoutModel",
          "model_module_version": "1.2.0",
          "state": {
            "_model_module": "@jupyter-widgets/base",
            "_model_module_version": "1.2.0",
            "_model_name": "LayoutModel",
            "_view_count": null,
            "_view_module": "@jupyter-widgets/base",
            "_view_module_version": "1.2.0",
            "_view_name": "LayoutView",
            "align_content": null,
            "align_items": null,
            "align_self": null,
            "border": null,
            "bottom": null,
            "display": null,
            "flex": "2",
            "flex_flow": null,
            "grid_area": null,
            "grid_auto_columns": null,
            "grid_auto_flow": null,
            "grid_auto_rows": null,
            "grid_column": null,
            "grid_gap": null,
            "grid_row": null,
            "grid_template_areas": null,
            "grid_template_columns": null,
            "grid_template_rows": null,
            "height": null,
            "justify_content": null,
            "justify_items": null,
            "left": null,
            "margin": null,
            "max_height": null,
            "max_width": null,
            "min_height": null,
            "min_width": null,
            "object_fit": null,
            "object_position": null,
            "order": null,
            "overflow": null,
            "overflow_x": null,
            "overflow_y": null,
            "padding": null,
            "right": null,
            "top": null,
            "visibility": null,
            "width": null
          }
        },
        "ad51c22d6f004c1582b388766c9e8eb9": {
          "model_module": "@jupyter-widgets/controls",
          "model_name": "ProgressStyleModel",
          "model_module_version": "1.5.0",
          "state": {
            "_model_module": "@jupyter-widgets/controls",
            "_model_module_version": "1.5.0",
            "_model_name": "ProgressStyleModel",
            "_view_count": null,
            "_view_module": "@jupyter-widgets/base",
            "_view_module_version": "1.2.0",
            "_view_name": "StyleView",
            "bar_color": null,
            "description_width": ""
          }
        },
        "d4f36cedbffa4411aff8db601e60920c": {
          "model_module": "@jupyter-widgets/base",
          "model_name": "LayoutModel",
          "model_module_version": "1.2.0",
          "state": {
            "_model_module": "@jupyter-widgets/base",
            "_model_module_version": "1.2.0",
            "_model_name": "LayoutModel",
            "_view_count": null,
            "_view_module": "@jupyter-widgets/base",
            "_view_module_version": "1.2.0",
            "_view_name": "LayoutView",
            "align_content": null,
            "align_items": null,
            "align_self": null,
            "border": null,
            "bottom": null,
            "display": null,
            "flex": null,
            "flex_flow": null,
            "grid_area": null,
            "grid_auto_columns": null,
            "grid_auto_flow": null,
            "grid_auto_rows": null,
            "grid_column": null,
            "grid_gap": null,
            "grid_row": null,
            "grid_template_areas": null,
            "grid_template_columns": null,
            "grid_template_rows": null,
            "height": null,
            "justify_content": null,
            "justify_items": null,
            "left": null,
            "margin": null,
            "max_height": null,
            "max_width": null,
            "min_height": null,
            "min_width": null,
            "object_fit": null,
            "object_position": null,
            "order": null,
            "overflow": null,
            "overflow_x": null,
            "overflow_y": null,
            "padding": null,
            "right": null,
            "top": null,
            "visibility": null,
            "width": null
          }
        },
        "dd84c7c219ea4161b331c7f904ec897f": {
          "model_module": "@jupyter-widgets/controls",
          "model_name": "DescriptionStyleModel",
          "model_module_version": "1.5.0",
          "state": {
            "_model_module": "@jupyter-widgets/controls",
            "_model_module_version": "1.5.0",
            "_model_name": "DescriptionStyleModel",
            "_view_count": null,
            "_view_module": "@jupyter-widgets/base",
            "_view_module_version": "1.2.0",
            "_view_name": "StyleView",
            "description_width": ""
          }
        },
        "b49421ca30324b00bdf024b74acb06c1": {
          "model_module": "@jupyter-widgets/controls",
          "model_name": "HBoxModel",
          "model_module_version": "1.5.0",
          "state": {
            "_dom_classes": [],
            "_model_module": "@jupyter-widgets/controls",
            "_model_module_version": "1.5.0",
            "_model_name": "HBoxModel",
            "_view_count": null,
            "_view_module": "@jupyter-widgets/controls",
            "_view_module_version": "1.5.0",
            "_view_name": "HBoxView",
            "box_style": "",
            "children": [
              "IPY_MODEL_a0524e26bd7d4d8187a3c14575212aed",
              "IPY_MODEL_3d647e9888c740bf8ce0b7f655f2ad5b",
              "IPY_MODEL_5d8717ad19b246d99a4c93d5b4c2d7cf"
            ],
            "layout": "IPY_MODEL_c22d0a9575e94b5686242bd10eed5870"
          }
        },
        "a0524e26bd7d4d8187a3c14575212aed": {
          "model_module": "@jupyter-widgets/controls",
          "model_name": "HTMLModel",
          "model_module_version": "1.5.0",
          "state": {
            "_dom_classes": [],
            "_model_module": "@jupyter-widgets/controls",
            "_model_module_version": "1.5.0",
            "_model_name": "HTMLModel",
            "_view_count": null,
            "_view_module": "@jupyter-widgets/controls",
            "_view_module_version": "1.5.0",
            "_view_name": "HTMLView",
            "description": "",
            "description_tooltip": null,
            "layout": "IPY_MODEL_bc63e9333a584de7a045423cf3cbfbd5",
            "placeholder": "​",
            "style": "IPY_MODEL_7a87925e56bb49d390647870e2a82217",
            "value": "Epoch 4: 100%"
          }
        },
        "3d647e9888c740bf8ce0b7f655f2ad5b": {
          "model_module": "@jupyter-widgets/controls",
          "model_name": "FloatProgressModel",
          "model_module_version": "1.5.0",
          "state": {
            "_dom_classes": [],
            "_model_module": "@jupyter-widgets/controls",
            "_model_module_version": "1.5.0",
            "_model_name": "FloatProgressModel",
            "_view_count": null,
            "_view_module": "@jupyter-widgets/controls",
            "_view_module_version": "1.5.0",
            "_view_name": "ProgressView",
            "bar_style": "success",
            "description": "",
            "description_tooltip": null,
            "layout": "IPY_MODEL_9551169b3fe545ad95c33f4b106fd43e",
            "max": 53653,
            "min": 0,
            "orientation": "horizontal",
            "style": "IPY_MODEL_092e71b551904e0d8ac4cbd254406b54",
            "value": 53653
          }
        },
        "5d8717ad19b246d99a4c93d5b4c2d7cf": {
          "model_module": "@jupyter-widgets/controls",
          "model_name": "HTMLModel",
          "model_module_version": "1.5.0",
          "state": {
            "_dom_classes": [],
            "_model_module": "@jupyter-widgets/controls",
            "_model_module_version": "1.5.0",
            "_model_name": "HTMLModel",
            "_view_count": null,
            "_view_module": "@jupyter-widgets/controls",
            "_view_module_version": "1.5.0",
            "_view_name": "HTMLView",
            "description": "",
            "description_tooltip": null,
            "layout": "IPY_MODEL_17e167585adc49af91bd4dbc77ef5858",
            "placeholder": "​",
            "style": "IPY_MODEL_535066eea1c2482e9ec27b9e6474cb9b",
            "value": " 53653/53653 [10:02&lt;00:00, 89.10it/s, v_num=0, val_loss=0.376, train_loss=0.347]"
          }
        },
        "c22d0a9575e94b5686242bd10eed5870": {
          "model_module": "@jupyter-widgets/base",
          "model_name": "LayoutModel",
          "model_module_version": "1.2.0",
          "state": {
            "_model_module": "@jupyter-widgets/base",
            "_model_module_version": "1.2.0",
            "_model_name": "LayoutModel",
            "_view_count": null,
            "_view_module": "@jupyter-widgets/base",
            "_view_module_version": "1.2.0",
            "_view_name": "LayoutView",
            "align_content": null,
            "align_items": null,
            "align_self": null,
            "border": null,
            "bottom": null,
            "display": "inline-flex",
            "flex": null,
            "flex_flow": "row wrap",
            "grid_area": null,
            "grid_auto_columns": null,
            "grid_auto_flow": null,
            "grid_auto_rows": null,
            "grid_column": null,
            "grid_gap": null,
            "grid_row": null,
            "grid_template_areas": null,
            "grid_template_columns": null,
            "grid_template_rows": null,
            "height": null,
            "justify_content": null,
            "justify_items": null,
            "left": null,
            "margin": null,
            "max_height": null,
            "max_width": null,
            "min_height": null,
            "min_width": null,
            "object_fit": null,
            "object_position": null,
            "order": null,
            "overflow": null,
            "overflow_x": null,
            "overflow_y": null,
            "padding": null,
            "right": null,
            "top": null,
            "visibility": null,
            "width": "100%"
          }
        },
        "bc63e9333a584de7a045423cf3cbfbd5": {
          "model_module": "@jupyter-widgets/base",
          "model_name": "LayoutModel",
          "model_module_version": "1.2.0",
          "state": {
            "_model_module": "@jupyter-widgets/base",
            "_model_module_version": "1.2.0",
            "_model_name": "LayoutModel",
            "_view_count": null,
            "_view_module": "@jupyter-widgets/base",
            "_view_module_version": "1.2.0",
            "_view_name": "LayoutView",
            "align_content": null,
            "align_items": null,
            "align_self": null,
            "border": null,
            "bottom": null,
            "display": null,
            "flex": null,
            "flex_flow": null,
            "grid_area": null,
            "grid_auto_columns": null,
            "grid_auto_flow": null,
            "grid_auto_rows": null,
            "grid_column": null,
            "grid_gap": null,
            "grid_row": null,
            "grid_template_areas": null,
            "grid_template_columns": null,
            "grid_template_rows": null,
            "height": null,
            "justify_content": null,
            "justify_items": null,
            "left": null,
            "margin": null,
            "max_height": null,
            "max_width": null,
            "min_height": null,
            "min_width": null,
            "object_fit": null,
            "object_position": null,
            "order": null,
            "overflow": null,
            "overflow_x": null,
            "overflow_y": null,
            "padding": null,
            "right": null,
            "top": null,
            "visibility": null,
            "width": null
          }
        },
        "7a87925e56bb49d390647870e2a82217": {
          "model_module": "@jupyter-widgets/controls",
          "model_name": "DescriptionStyleModel",
          "model_module_version": "1.5.0",
          "state": {
            "_model_module": "@jupyter-widgets/controls",
            "_model_module_version": "1.5.0",
            "_model_name": "DescriptionStyleModel",
            "_view_count": null,
            "_view_module": "@jupyter-widgets/base",
            "_view_module_version": "1.2.0",
            "_view_name": "StyleView",
            "description_width": ""
          }
        },
        "9551169b3fe545ad95c33f4b106fd43e": {
          "model_module": "@jupyter-widgets/base",
          "model_name": "LayoutModel",
          "model_module_version": "1.2.0",
          "state": {
            "_model_module": "@jupyter-widgets/base",
            "_model_module_version": "1.2.0",
            "_model_name": "LayoutModel",
            "_view_count": null,
            "_view_module": "@jupyter-widgets/base",
            "_view_module_version": "1.2.0",
            "_view_name": "LayoutView",
            "align_content": null,
            "align_items": null,
            "align_self": null,
            "border": null,
            "bottom": null,
            "display": null,
            "flex": "2",
            "flex_flow": null,
            "grid_area": null,
            "grid_auto_columns": null,
            "grid_auto_flow": null,
            "grid_auto_rows": null,
            "grid_column": null,
            "grid_gap": null,
            "grid_row": null,
            "grid_template_areas": null,
            "grid_template_columns": null,
            "grid_template_rows": null,
            "height": null,
            "justify_content": null,
            "justify_items": null,
            "left": null,
            "margin": null,
            "max_height": null,
            "max_width": null,
            "min_height": null,
            "min_width": null,
            "object_fit": null,
            "object_position": null,
            "order": null,
            "overflow": null,
            "overflow_x": null,
            "overflow_y": null,
            "padding": null,
            "right": null,
            "top": null,
            "visibility": null,
            "width": null
          }
        },
        "092e71b551904e0d8ac4cbd254406b54": {
          "model_module": "@jupyter-widgets/controls",
          "model_name": "ProgressStyleModel",
          "model_module_version": "1.5.0",
          "state": {
            "_model_module": "@jupyter-widgets/controls",
            "_model_module_version": "1.5.0",
            "_model_name": "ProgressStyleModel",
            "_view_count": null,
            "_view_module": "@jupyter-widgets/base",
            "_view_module_version": "1.2.0",
            "_view_name": "StyleView",
            "bar_color": null,
            "description_width": ""
          }
        },
        "17e167585adc49af91bd4dbc77ef5858": {
          "model_module": "@jupyter-widgets/base",
          "model_name": "LayoutModel",
          "model_module_version": "1.2.0",
          "state": {
            "_model_module": "@jupyter-widgets/base",
            "_model_module_version": "1.2.0",
            "_model_name": "LayoutModel",
            "_view_count": null,
            "_view_module": "@jupyter-widgets/base",
            "_view_module_version": "1.2.0",
            "_view_name": "LayoutView",
            "align_content": null,
            "align_items": null,
            "align_self": null,
            "border": null,
            "bottom": null,
            "display": null,
            "flex": null,
            "flex_flow": null,
            "grid_area": null,
            "grid_auto_columns": null,
            "grid_auto_flow": null,
            "grid_auto_rows": null,
            "grid_column": null,
            "grid_gap": null,
            "grid_row": null,
            "grid_template_areas": null,
            "grid_template_columns": null,
            "grid_template_rows": null,
            "height": null,
            "justify_content": null,
            "justify_items": null,
            "left": null,
            "margin": null,
            "max_height": null,
            "max_width": null,
            "min_height": null,
            "min_width": null,
            "object_fit": null,
            "object_position": null,
            "order": null,
            "overflow": null,
            "overflow_x": null,
            "overflow_y": null,
            "padding": null,
            "right": null,
            "top": null,
            "visibility": null,
            "width": null
          }
        },
        "535066eea1c2482e9ec27b9e6474cb9b": {
          "model_module": "@jupyter-widgets/controls",
          "model_name": "DescriptionStyleModel",
          "model_module_version": "1.5.0",
          "state": {
            "_model_module": "@jupyter-widgets/controls",
            "_model_module_version": "1.5.0",
            "_model_name": "DescriptionStyleModel",
            "_view_count": null,
            "_view_module": "@jupyter-widgets/base",
            "_view_module_version": "1.2.0",
            "_view_name": "StyleView",
            "description_width": ""
          }
        },
        "4c2bdf0fca9f40adac40f7887eedb216": {
          "model_module": "@jupyter-widgets/controls",
          "model_name": "HBoxModel",
          "model_module_version": "1.5.0",
          "state": {
            "_dom_classes": [],
            "_model_module": "@jupyter-widgets/controls",
            "_model_module_version": "1.5.0",
            "_model_name": "HBoxModel",
            "_view_count": null,
            "_view_module": "@jupyter-widgets/controls",
            "_view_module_version": "1.5.0",
            "_view_name": "HBoxView",
            "box_style": "",
            "children": [
              "IPY_MODEL_c7600b1d51444876a67ba2ba14387c9f",
              "IPY_MODEL_130ecdc575fb4850b42b4e3998c858e8",
              "IPY_MODEL_5b98d3ab4f07441682fcd8421ff57f22"
            ],
            "layout": "IPY_MODEL_1890584c03ee46ecb02b5f3ac97bfa48"
          }
        },
        "c7600b1d51444876a67ba2ba14387c9f": {
          "model_module": "@jupyter-widgets/controls",
          "model_name": "HTMLModel",
          "model_module_version": "1.5.0",
          "state": {
            "_dom_classes": [],
            "_model_module": "@jupyter-widgets/controls",
            "_model_module_version": "1.5.0",
            "_model_name": "HTMLModel",
            "_view_count": null,
            "_view_module": "@jupyter-widgets/controls",
            "_view_module_version": "1.5.0",
            "_view_name": "HTMLView",
            "description": "",
            "description_tooltip": null,
            "layout": "IPY_MODEL_4bbc4a0850fb4f3fbc7ff5ee567cc272",
            "placeholder": "​",
            "style": "IPY_MODEL_46bf68466c9c4041973a1ccb5aa6007f",
            "value": "Validation DataLoader 0: 100%"
          }
        },
        "130ecdc575fb4850b42b4e3998c858e8": {
          "model_module": "@jupyter-widgets/controls",
          "model_name": "FloatProgressModel",
          "model_module_version": "1.5.0",
          "state": {
            "_dom_classes": [],
            "_model_module": "@jupyter-widgets/controls",
            "_model_module_version": "1.5.0",
            "_model_name": "FloatProgressModel",
            "_view_count": null,
            "_view_module": "@jupyter-widgets/controls",
            "_view_module_version": "1.5.0",
            "_view_name": "ProgressView",
            "bar_style": "",
            "description": "",
            "description_tooltip": null,
            "layout": "IPY_MODEL_795467da61dc4458bffbd8b554903952",
            "max": 554,
            "min": 0,
            "orientation": "horizontal",
            "style": "IPY_MODEL_fcfcfb8a75f146e4a9ab2da8a907af43",
            "value": 554
          }
        },
        "5b98d3ab4f07441682fcd8421ff57f22": {
          "model_module": "@jupyter-widgets/controls",
          "model_name": "HTMLModel",
          "model_module_version": "1.5.0",
          "state": {
            "_dom_classes": [],
            "_model_module": "@jupyter-widgets/controls",
            "_model_module_version": "1.5.0",
            "_model_name": "HTMLModel",
            "_view_count": null,
            "_view_module": "@jupyter-widgets/controls",
            "_view_module_version": "1.5.0",
            "_view_name": "HTMLView",
            "description": "",
            "description_tooltip": null,
            "layout": "IPY_MODEL_d5645f1d0a2b4a0fbd3575510f2c586b",
            "placeholder": "​",
            "style": "IPY_MODEL_603aad5dbd8d4c5a82ce6fd7c61e6cf4",
            "value": " 554/554 [00:04&lt;00:00, 132.23it/s]"
          }
        },
        "1890584c03ee46ecb02b5f3ac97bfa48": {
          "model_module": "@jupyter-widgets/base",
          "model_name": "LayoutModel",
          "model_module_version": "1.2.0",
          "state": {
            "_model_module": "@jupyter-widgets/base",
            "_model_module_version": "1.2.0",
            "_model_name": "LayoutModel",
            "_view_count": null,
            "_view_module": "@jupyter-widgets/base",
            "_view_module_version": "1.2.0",
            "_view_name": "LayoutView",
            "align_content": null,
            "align_items": null,
            "align_self": null,
            "border": null,
            "bottom": null,
            "display": "inline-flex",
            "flex": null,
            "flex_flow": "row wrap",
            "grid_area": null,
            "grid_auto_columns": null,
            "grid_auto_flow": null,
            "grid_auto_rows": null,
            "grid_column": null,
            "grid_gap": null,
            "grid_row": null,
            "grid_template_areas": null,
            "grid_template_columns": null,
            "grid_template_rows": null,
            "height": null,
            "justify_content": null,
            "justify_items": null,
            "left": null,
            "margin": null,
            "max_height": null,
            "max_width": null,
            "min_height": null,
            "min_width": null,
            "object_fit": null,
            "object_position": null,
            "order": null,
            "overflow": null,
            "overflow_x": null,
            "overflow_y": null,
            "padding": null,
            "right": null,
            "top": null,
            "visibility": "hidden",
            "width": "100%"
          }
        },
        "4bbc4a0850fb4f3fbc7ff5ee567cc272": {
          "model_module": "@jupyter-widgets/base",
          "model_name": "LayoutModel",
          "model_module_version": "1.2.0",
          "state": {
            "_model_module": "@jupyter-widgets/base",
            "_model_module_version": "1.2.0",
            "_model_name": "LayoutModel",
            "_view_count": null,
            "_view_module": "@jupyter-widgets/base",
            "_view_module_version": "1.2.0",
            "_view_name": "LayoutView",
            "align_content": null,
            "align_items": null,
            "align_self": null,
            "border": null,
            "bottom": null,
            "display": null,
            "flex": null,
            "flex_flow": null,
            "grid_area": null,
            "grid_auto_columns": null,
            "grid_auto_flow": null,
            "grid_auto_rows": null,
            "grid_column": null,
            "grid_gap": null,
            "grid_row": null,
            "grid_template_areas": null,
            "grid_template_columns": null,
            "grid_template_rows": null,
            "height": null,
            "justify_content": null,
            "justify_items": null,
            "left": null,
            "margin": null,
            "max_height": null,
            "max_width": null,
            "min_height": null,
            "min_width": null,
            "object_fit": null,
            "object_position": null,
            "order": null,
            "overflow": null,
            "overflow_x": null,
            "overflow_y": null,
            "padding": null,
            "right": null,
            "top": null,
            "visibility": null,
            "width": null
          }
        },
        "46bf68466c9c4041973a1ccb5aa6007f": {
          "model_module": "@jupyter-widgets/controls",
          "model_name": "DescriptionStyleModel",
          "model_module_version": "1.5.0",
          "state": {
            "_model_module": "@jupyter-widgets/controls",
            "_model_module_version": "1.5.0",
            "_model_name": "DescriptionStyleModel",
            "_view_count": null,
            "_view_module": "@jupyter-widgets/base",
            "_view_module_version": "1.2.0",
            "_view_name": "StyleView",
            "description_width": ""
          }
        },
        "795467da61dc4458bffbd8b554903952": {
          "model_module": "@jupyter-widgets/base",
          "model_name": "LayoutModel",
          "model_module_version": "1.2.0",
          "state": {
            "_model_module": "@jupyter-widgets/base",
            "_model_module_version": "1.2.0",
            "_model_name": "LayoutModel",
            "_view_count": null,
            "_view_module": "@jupyter-widgets/base",
            "_view_module_version": "1.2.0",
            "_view_name": "LayoutView",
            "align_content": null,
            "align_items": null,
            "align_self": null,
            "border": null,
            "bottom": null,
            "display": null,
            "flex": "2",
            "flex_flow": null,
            "grid_area": null,
            "grid_auto_columns": null,
            "grid_auto_flow": null,
            "grid_auto_rows": null,
            "grid_column": null,
            "grid_gap": null,
            "grid_row": null,
            "grid_template_areas": null,
            "grid_template_columns": null,
            "grid_template_rows": null,
            "height": null,
            "justify_content": null,
            "justify_items": null,
            "left": null,
            "margin": null,
            "max_height": null,
            "max_width": null,
            "min_height": null,
            "min_width": null,
            "object_fit": null,
            "object_position": null,
            "order": null,
            "overflow": null,
            "overflow_x": null,
            "overflow_y": null,
            "padding": null,
            "right": null,
            "top": null,
            "visibility": null,
            "width": null
          }
        },
        "fcfcfb8a75f146e4a9ab2da8a907af43": {
          "model_module": "@jupyter-widgets/controls",
          "model_name": "ProgressStyleModel",
          "model_module_version": "1.5.0",
          "state": {
            "_model_module": "@jupyter-widgets/controls",
            "_model_module_version": "1.5.0",
            "_model_name": "ProgressStyleModel",
            "_view_count": null,
            "_view_module": "@jupyter-widgets/base",
            "_view_module_version": "1.2.0",
            "_view_name": "StyleView",
            "bar_color": null,
            "description_width": ""
          }
        },
        "d5645f1d0a2b4a0fbd3575510f2c586b": {
          "model_module": "@jupyter-widgets/base",
          "model_name": "LayoutModel",
          "model_module_version": "1.2.0",
          "state": {
            "_model_module": "@jupyter-widgets/base",
            "_model_module_version": "1.2.0",
            "_model_name": "LayoutModel",
            "_view_count": null,
            "_view_module": "@jupyter-widgets/base",
            "_view_module_version": "1.2.0",
            "_view_name": "LayoutView",
            "align_content": null,
            "align_items": null,
            "align_self": null,
            "border": null,
            "bottom": null,
            "display": null,
            "flex": null,
            "flex_flow": null,
            "grid_area": null,
            "grid_auto_columns": null,
            "grid_auto_flow": null,
            "grid_auto_rows": null,
            "grid_column": null,
            "grid_gap": null,
            "grid_row": null,
            "grid_template_areas": null,
            "grid_template_columns": null,
            "grid_template_rows": null,
            "height": null,
            "justify_content": null,
            "justify_items": null,
            "left": null,
            "margin": null,
            "max_height": null,
            "max_width": null,
            "min_height": null,
            "min_width": null,
            "object_fit": null,
            "object_position": null,
            "order": null,
            "overflow": null,
            "overflow_x": null,
            "overflow_y": null,
            "padding": null,
            "right": null,
            "top": null,
            "visibility": null,
            "width": null
          }
        },
        "603aad5dbd8d4c5a82ce6fd7c61e6cf4": {
          "model_module": "@jupyter-widgets/controls",
          "model_name": "DescriptionStyleModel",
          "model_module_version": "1.5.0",
          "state": {
            "_model_module": "@jupyter-widgets/controls",
            "_model_module_version": "1.5.0",
            "_model_name": "DescriptionStyleModel",
            "_view_count": null,
            "_view_module": "@jupyter-widgets/base",
            "_view_module_version": "1.2.0",
            "_view_name": "StyleView",
            "description_width": ""
          }
        },
        "294960926d06415cbc4dbe2300166e12": {
          "model_module": "@jupyter-widgets/controls",
          "model_name": "HBoxModel",
          "model_module_version": "1.5.0",
          "state": {
            "_dom_classes": [],
            "_model_module": "@jupyter-widgets/controls",
            "_model_module_version": "1.5.0",
            "_model_name": "HBoxModel",
            "_view_count": null,
            "_view_module": "@jupyter-widgets/controls",
            "_view_module_version": "1.5.0",
            "_view_name": "HBoxView",
            "box_style": "",
            "children": [
              "IPY_MODEL_8e22625bc2fe466e8fdd4bb43554b50c",
              "IPY_MODEL_33a81f617ae44d0aafcf8390cf9069ee",
              "IPY_MODEL_c098497018fc429ea1b2517a6f3190f9"
            ],
            "layout": "IPY_MODEL_593728dbba6f4727aced8f7e00c0dbfb"
          }
        },
        "8e22625bc2fe466e8fdd4bb43554b50c": {
          "model_module": "@jupyter-widgets/controls",
          "model_name": "HTMLModel",
          "model_module_version": "1.5.0",
          "state": {
            "_dom_classes": [],
            "_model_module": "@jupyter-widgets/controls",
            "_model_module_version": "1.5.0",
            "_model_name": "HTMLModel",
            "_view_count": null,
            "_view_module": "@jupyter-widgets/controls",
            "_view_module_version": "1.5.0",
            "_view_name": "HTMLView",
            "description": "",
            "description_tooltip": null,
            "layout": "IPY_MODEL_d6ff0dedfff84193b40447298be35b1e",
            "placeholder": "​",
            "style": "IPY_MODEL_dd4d74c0480c41bf96010b2b40d959d8",
            "value": "Validation DataLoader 0: 100%"
          }
        },
        "33a81f617ae44d0aafcf8390cf9069ee": {
          "model_module": "@jupyter-widgets/controls",
          "model_name": "FloatProgressModel",
          "model_module_version": "1.5.0",
          "state": {
            "_dom_classes": [],
            "_model_module": "@jupyter-widgets/controls",
            "_model_module_version": "1.5.0",
            "_model_name": "FloatProgressModel",
            "_view_count": null,
            "_view_module": "@jupyter-widgets/controls",
            "_view_module_version": "1.5.0",
            "_view_name": "ProgressView",
            "bar_style": "",
            "description": "",
            "description_tooltip": null,
            "layout": "IPY_MODEL_6dca20c730f34376a7dd1e4549d0e6e3",
            "max": 554,
            "min": 0,
            "orientation": "horizontal",
            "style": "IPY_MODEL_1921451f93ce4b179da85f742f3dcc25",
            "value": 554
          }
        },
        "c098497018fc429ea1b2517a6f3190f9": {
          "model_module": "@jupyter-widgets/controls",
          "model_name": "HTMLModel",
          "model_module_version": "1.5.0",
          "state": {
            "_dom_classes": [],
            "_model_module": "@jupyter-widgets/controls",
            "_model_module_version": "1.5.0",
            "_model_name": "HTMLModel",
            "_view_count": null,
            "_view_module": "@jupyter-widgets/controls",
            "_view_module_version": "1.5.0",
            "_view_name": "HTMLView",
            "description": "",
            "description_tooltip": null,
            "layout": "IPY_MODEL_db3b10a062a74bbb8c20f039f9e028b5",
            "placeholder": "​",
            "style": "IPY_MODEL_e6e48b73cea74ea2bd5ccc4ed669724d",
            "value": " 554/554 [00:04&lt;00:00, 128.21it/s]"
          }
        },
        "593728dbba6f4727aced8f7e00c0dbfb": {
          "model_module": "@jupyter-widgets/base",
          "model_name": "LayoutModel",
          "model_module_version": "1.2.0",
          "state": {
            "_model_module": "@jupyter-widgets/base",
            "_model_module_version": "1.2.0",
            "_model_name": "LayoutModel",
            "_view_count": null,
            "_view_module": "@jupyter-widgets/base",
            "_view_module_version": "1.2.0",
            "_view_name": "LayoutView",
            "align_content": null,
            "align_items": null,
            "align_self": null,
            "border": null,
            "bottom": null,
            "display": "inline-flex",
            "flex": null,
            "flex_flow": "row wrap",
            "grid_area": null,
            "grid_auto_columns": null,
            "grid_auto_flow": null,
            "grid_auto_rows": null,
            "grid_column": null,
            "grid_gap": null,
            "grid_row": null,
            "grid_template_areas": null,
            "grid_template_columns": null,
            "grid_template_rows": null,
            "height": null,
            "justify_content": null,
            "justify_items": null,
            "left": null,
            "margin": null,
            "max_height": null,
            "max_width": null,
            "min_height": null,
            "min_width": null,
            "object_fit": null,
            "object_position": null,
            "order": null,
            "overflow": null,
            "overflow_x": null,
            "overflow_y": null,
            "padding": null,
            "right": null,
            "top": null,
            "visibility": "hidden",
            "width": "100%"
          }
        },
        "d6ff0dedfff84193b40447298be35b1e": {
          "model_module": "@jupyter-widgets/base",
          "model_name": "LayoutModel",
          "model_module_version": "1.2.0",
          "state": {
            "_model_module": "@jupyter-widgets/base",
            "_model_module_version": "1.2.0",
            "_model_name": "LayoutModel",
            "_view_count": null,
            "_view_module": "@jupyter-widgets/base",
            "_view_module_version": "1.2.0",
            "_view_name": "LayoutView",
            "align_content": null,
            "align_items": null,
            "align_self": null,
            "border": null,
            "bottom": null,
            "display": null,
            "flex": null,
            "flex_flow": null,
            "grid_area": null,
            "grid_auto_columns": null,
            "grid_auto_flow": null,
            "grid_auto_rows": null,
            "grid_column": null,
            "grid_gap": null,
            "grid_row": null,
            "grid_template_areas": null,
            "grid_template_columns": null,
            "grid_template_rows": null,
            "height": null,
            "justify_content": null,
            "justify_items": null,
            "left": null,
            "margin": null,
            "max_height": null,
            "max_width": null,
            "min_height": null,
            "min_width": null,
            "object_fit": null,
            "object_position": null,
            "order": null,
            "overflow": null,
            "overflow_x": null,
            "overflow_y": null,
            "padding": null,
            "right": null,
            "top": null,
            "visibility": null,
            "width": null
          }
        },
        "dd4d74c0480c41bf96010b2b40d959d8": {
          "model_module": "@jupyter-widgets/controls",
          "model_name": "DescriptionStyleModel",
          "model_module_version": "1.5.0",
          "state": {
            "_model_module": "@jupyter-widgets/controls",
            "_model_module_version": "1.5.0",
            "_model_name": "DescriptionStyleModel",
            "_view_count": null,
            "_view_module": "@jupyter-widgets/base",
            "_view_module_version": "1.2.0",
            "_view_name": "StyleView",
            "description_width": ""
          }
        },
        "6dca20c730f34376a7dd1e4549d0e6e3": {
          "model_module": "@jupyter-widgets/base",
          "model_name": "LayoutModel",
          "model_module_version": "1.2.0",
          "state": {
            "_model_module": "@jupyter-widgets/base",
            "_model_module_version": "1.2.0",
            "_model_name": "LayoutModel",
            "_view_count": null,
            "_view_module": "@jupyter-widgets/base",
            "_view_module_version": "1.2.0",
            "_view_name": "LayoutView",
            "align_content": null,
            "align_items": null,
            "align_self": null,
            "border": null,
            "bottom": null,
            "display": null,
            "flex": "2",
            "flex_flow": null,
            "grid_area": null,
            "grid_auto_columns": null,
            "grid_auto_flow": null,
            "grid_auto_rows": null,
            "grid_column": null,
            "grid_gap": null,
            "grid_row": null,
            "grid_template_areas": null,
            "grid_template_columns": null,
            "grid_template_rows": null,
            "height": null,
            "justify_content": null,
            "justify_items": null,
            "left": null,
            "margin": null,
            "max_height": null,
            "max_width": null,
            "min_height": null,
            "min_width": null,
            "object_fit": null,
            "object_position": null,
            "order": null,
            "overflow": null,
            "overflow_x": null,
            "overflow_y": null,
            "padding": null,
            "right": null,
            "top": null,
            "visibility": null,
            "width": null
          }
        },
        "1921451f93ce4b179da85f742f3dcc25": {
          "model_module": "@jupyter-widgets/controls",
          "model_name": "ProgressStyleModel",
          "model_module_version": "1.5.0",
          "state": {
            "_model_module": "@jupyter-widgets/controls",
            "_model_module_version": "1.5.0",
            "_model_name": "ProgressStyleModel",
            "_view_count": null,
            "_view_module": "@jupyter-widgets/base",
            "_view_module_version": "1.2.0",
            "_view_name": "StyleView",
            "bar_color": null,
            "description_width": ""
          }
        },
        "db3b10a062a74bbb8c20f039f9e028b5": {
          "model_module": "@jupyter-widgets/base",
          "model_name": "LayoutModel",
          "model_module_version": "1.2.0",
          "state": {
            "_model_module": "@jupyter-widgets/base",
            "_model_module_version": "1.2.0",
            "_model_name": "LayoutModel",
            "_view_count": null,
            "_view_module": "@jupyter-widgets/base",
            "_view_module_version": "1.2.0",
            "_view_name": "LayoutView",
            "align_content": null,
            "align_items": null,
            "align_self": null,
            "border": null,
            "bottom": null,
            "display": null,
            "flex": null,
            "flex_flow": null,
            "grid_area": null,
            "grid_auto_columns": null,
            "grid_auto_flow": null,
            "grid_auto_rows": null,
            "grid_column": null,
            "grid_gap": null,
            "grid_row": null,
            "grid_template_areas": null,
            "grid_template_columns": null,
            "grid_template_rows": null,
            "height": null,
            "justify_content": null,
            "justify_items": null,
            "left": null,
            "margin": null,
            "max_height": null,
            "max_width": null,
            "min_height": null,
            "min_width": null,
            "object_fit": null,
            "object_position": null,
            "order": null,
            "overflow": null,
            "overflow_x": null,
            "overflow_y": null,
            "padding": null,
            "right": null,
            "top": null,
            "visibility": null,
            "width": null
          }
        },
        "e6e48b73cea74ea2bd5ccc4ed669724d": {
          "model_module": "@jupyter-widgets/controls",
          "model_name": "DescriptionStyleModel",
          "model_module_version": "1.5.0",
          "state": {
            "_model_module": "@jupyter-widgets/controls",
            "_model_module_version": "1.5.0",
            "_model_name": "DescriptionStyleModel",
            "_view_count": null,
            "_view_module": "@jupyter-widgets/base",
            "_view_module_version": "1.2.0",
            "_view_name": "StyleView",
            "description_width": ""
          }
        },
        "0c495989c4074fe5ba838a0f52dfd367": {
          "model_module": "@jupyter-widgets/controls",
          "model_name": "HBoxModel",
          "model_module_version": "1.5.0",
          "state": {
            "_dom_classes": [],
            "_model_module": "@jupyter-widgets/controls",
            "_model_module_version": "1.5.0",
            "_model_name": "HBoxModel",
            "_view_count": null,
            "_view_module": "@jupyter-widgets/controls",
            "_view_module_version": "1.5.0",
            "_view_name": "HBoxView",
            "box_style": "",
            "children": [
              "IPY_MODEL_186a53f561d74fe9b0e413505e759f7c",
              "IPY_MODEL_de8ffdf4efc34d0489148f9614948876",
              "IPY_MODEL_85d1e96ebc9c479799af6013b4066307"
            ],
            "layout": "IPY_MODEL_1aff314cb9714a08b066cceefb94c0ec"
          }
        },
        "186a53f561d74fe9b0e413505e759f7c": {
          "model_module": "@jupyter-widgets/controls",
          "model_name": "HTMLModel",
          "model_module_version": "1.5.0",
          "state": {
            "_dom_classes": [],
            "_model_module": "@jupyter-widgets/controls",
            "_model_module_version": "1.5.0",
            "_model_name": "HTMLModel",
            "_view_count": null,
            "_view_module": "@jupyter-widgets/controls",
            "_view_module_version": "1.5.0",
            "_view_name": "HTMLView",
            "description": "",
            "description_tooltip": null,
            "layout": "IPY_MODEL_0b5e2cd8fca04f8a8604fe6f03940316",
            "placeholder": "​",
            "style": "IPY_MODEL_606fb9ec7b124686a4b9313f5b5ca0b9",
            "value": "Validation DataLoader 0: 100%"
          }
        },
        "de8ffdf4efc34d0489148f9614948876": {
          "model_module": "@jupyter-widgets/controls",
          "model_name": "FloatProgressModel",
          "model_module_version": "1.5.0",
          "state": {
            "_dom_classes": [],
            "_model_module": "@jupyter-widgets/controls",
            "_model_module_version": "1.5.0",
            "_model_name": "FloatProgressModel",
            "_view_count": null,
            "_view_module": "@jupyter-widgets/controls",
            "_view_module_version": "1.5.0",
            "_view_name": "ProgressView",
            "bar_style": "",
            "description": "",
            "description_tooltip": null,
            "layout": "IPY_MODEL_ac86bde46db94170b1b17467ef7145e5",
            "max": 554,
            "min": 0,
            "orientation": "horizontal",
            "style": "IPY_MODEL_bea4628390d8481196bb99a40abb5fb3",
            "value": 554
          }
        },
        "85d1e96ebc9c479799af6013b4066307": {
          "model_module": "@jupyter-widgets/controls",
          "model_name": "HTMLModel",
          "model_module_version": "1.5.0",
          "state": {
            "_dom_classes": [],
            "_model_module": "@jupyter-widgets/controls",
            "_model_module_version": "1.5.0",
            "_model_name": "HTMLModel",
            "_view_count": null,
            "_view_module": "@jupyter-widgets/controls",
            "_view_module_version": "1.5.0",
            "_view_name": "HTMLView",
            "description": "",
            "description_tooltip": null,
            "layout": "IPY_MODEL_a9470048c9e147288eea9c929e34912e",
            "placeholder": "​",
            "style": "IPY_MODEL_37830b86c97148cf803b31c4a137aa9e",
            "value": " 554/554 [00:05&lt;00:00, 93.97it/s]"
          }
        },
        "1aff314cb9714a08b066cceefb94c0ec": {
          "model_module": "@jupyter-widgets/base",
          "model_name": "LayoutModel",
          "model_module_version": "1.2.0",
          "state": {
            "_model_module": "@jupyter-widgets/base",
            "_model_module_version": "1.2.0",
            "_model_name": "LayoutModel",
            "_view_count": null,
            "_view_module": "@jupyter-widgets/base",
            "_view_module_version": "1.2.0",
            "_view_name": "LayoutView",
            "align_content": null,
            "align_items": null,
            "align_self": null,
            "border": null,
            "bottom": null,
            "display": "inline-flex",
            "flex": null,
            "flex_flow": "row wrap",
            "grid_area": null,
            "grid_auto_columns": null,
            "grid_auto_flow": null,
            "grid_auto_rows": null,
            "grid_column": null,
            "grid_gap": null,
            "grid_row": null,
            "grid_template_areas": null,
            "grid_template_columns": null,
            "grid_template_rows": null,
            "height": null,
            "justify_content": null,
            "justify_items": null,
            "left": null,
            "margin": null,
            "max_height": null,
            "max_width": null,
            "min_height": null,
            "min_width": null,
            "object_fit": null,
            "object_position": null,
            "order": null,
            "overflow": null,
            "overflow_x": null,
            "overflow_y": null,
            "padding": null,
            "right": null,
            "top": null,
            "visibility": "hidden",
            "width": "100%"
          }
        },
        "0b5e2cd8fca04f8a8604fe6f03940316": {
          "model_module": "@jupyter-widgets/base",
          "model_name": "LayoutModel",
          "model_module_version": "1.2.0",
          "state": {
            "_model_module": "@jupyter-widgets/base",
            "_model_module_version": "1.2.0",
            "_model_name": "LayoutModel",
            "_view_count": null,
            "_view_module": "@jupyter-widgets/base",
            "_view_module_version": "1.2.0",
            "_view_name": "LayoutView",
            "align_content": null,
            "align_items": null,
            "align_self": null,
            "border": null,
            "bottom": null,
            "display": null,
            "flex": null,
            "flex_flow": null,
            "grid_area": null,
            "grid_auto_columns": null,
            "grid_auto_flow": null,
            "grid_auto_rows": null,
            "grid_column": null,
            "grid_gap": null,
            "grid_row": null,
            "grid_template_areas": null,
            "grid_template_columns": null,
            "grid_template_rows": null,
            "height": null,
            "justify_content": null,
            "justify_items": null,
            "left": null,
            "margin": null,
            "max_height": null,
            "max_width": null,
            "min_height": null,
            "min_width": null,
            "object_fit": null,
            "object_position": null,
            "order": null,
            "overflow": null,
            "overflow_x": null,
            "overflow_y": null,
            "padding": null,
            "right": null,
            "top": null,
            "visibility": null,
            "width": null
          }
        },
        "606fb9ec7b124686a4b9313f5b5ca0b9": {
          "model_module": "@jupyter-widgets/controls",
          "model_name": "DescriptionStyleModel",
          "model_module_version": "1.5.0",
          "state": {
            "_model_module": "@jupyter-widgets/controls",
            "_model_module_version": "1.5.0",
            "_model_name": "DescriptionStyleModel",
            "_view_count": null,
            "_view_module": "@jupyter-widgets/base",
            "_view_module_version": "1.2.0",
            "_view_name": "StyleView",
            "description_width": ""
          }
        },
        "ac86bde46db94170b1b17467ef7145e5": {
          "model_module": "@jupyter-widgets/base",
          "model_name": "LayoutModel",
          "model_module_version": "1.2.0",
          "state": {
            "_model_module": "@jupyter-widgets/base",
            "_model_module_version": "1.2.0",
            "_model_name": "LayoutModel",
            "_view_count": null,
            "_view_module": "@jupyter-widgets/base",
            "_view_module_version": "1.2.0",
            "_view_name": "LayoutView",
            "align_content": null,
            "align_items": null,
            "align_self": null,
            "border": null,
            "bottom": null,
            "display": null,
            "flex": "2",
            "flex_flow": null,
            "grid_area": null,
            "grid_auto_columns": null,
            "grid_auto_flow": null,
            "grid_auto_rows": null,
            "grid_column": null,
            "grid_gap": null,
            "grid_row": null,
            "grid_template_areas": null,
            "grid_template_columns": null,
            "grid_template_rows": null,
            "height": null,
            "justify_content": null,
            "justify_items": null,
            "left": null,
            "margin": null,
            "max_height": null,
            "max_width": null,
            "min_height": null,
            "min_width": null,
            "object_fit": null,
            "object_position": null,
            "order": null,
            "overflow": null,
            "overflow_x": null,
            "overflow_y": null,
            "padding": null,
            "right": null,
            "top": null,
            "visibility": null,
            "width": null
          }
        },
        "bea4628390d8481196bb99a40abb5fb3": {
          "model_module": "@jupyter-widgets/controls",
          "model_name": "ProgressStyleModel",
          "model_module_version": "1.5.0",
          "state": {
            "_model_module": "@jupyter-widgets/controls",
            "_model_module_version": "1.5.0",
            "_model_name": "ProgressStyleModel",
            "_view_count": null,
            "_view_module": "@jupyter-widgets/base",
            "_view_module_version": "1.2.0",
            "_view_name": "StyleView",
            "bar_color": null,
            "description_width": ""
          }
        },
        "a9470048c9e147288eea9c929e34912e": {
          "model_module": "@jupyter-widgets/base",
          "model_name": "LayoutModel",
          "model_module_version": "1.2.0",
          "state": {
            "_model_module": "@jupyter-widgets/base",
            "_model_module_version": "1.2.0",
            "_model_name": "LayoutModel",
            "_view_count": null,
            "_view_module": "@jupyter-widgets/base",
            "_view_module_version": "1.2.0",
            "_view_name": "LayoutView",
            "align_content": null,
            "align_items": null,
            "align_self": null,
            "border": null,
            "bottom": null,
            "display": null,
            "flex": null,
            "flex_flow": null,
            "grid_area": null,
            "grid_auto_columns": null,
            "grid_auto_flow": null,
            "grid_auto_rows": null,
            "grid_column": null,
            "grid_gap": null,
            "grid_row": null,
            "grid_template_areas": null,
            "grid_template_columns": null,
            "grid_template_rows": null,
            "height": null,
            "justify_content": null,
            "justify_items": null,
            "left": null,
            "margin": null,
            "max_height": null,
            "max_width": null,
            "min_height": null,
            "min_width": null,
            "object_fit": null,
            "object_position": null,
            "order": null,
            "overflow": null,
            "overflow_x": null,
            "overflow_y": null,
            "padding": null,
            "right": null,
            "top": null,
            "visibility": null,
            "width": null
          }
        },
        "37830b86c97148cf803b31c4a137aa9e": {
          "model_module": "@jupyter-widgets/controls",
          "model_name": "DescriptionStyleModel",
          "model_module_version": "1.5.0",
          "state": {
            "_model_module": "@jupyter-widgets/controls",
            "_model_module_version": "1.5.0",
            "_model_name": "DescriptionStyleModel",
            "_view_count": null,
            "_view_module": "@jupyter-widgets/base",
            "_view_module_version": "1.2.0",
            "_view_name": "StyleView",
            "description_width": ""
          }
        },
        "a74f75cdf2cf4ec7af04d786113ba94a": {
          "model_module": "@jupyter-widgets/controls",
          "model_name": "HBoxModel",
          "model_module_version": "1.5.0",
          "state": {
            "_dom_classes": [],
            "_model_module": "@jupyter-widgets/controls",
            "_model_module_version": "1.5.0",
            "_model_name": "HBoxModel",
            "_view_count": null,
            "_view_module": "@jupyter-widgets/controls",
            "_view_module_version": "1.5.0",
            "_view_name": "HBoxView",
            "box_style": "",
            "children": [
              "IPY_MODEL_37db2800f30e4ece90705f2cfab22ae6",
              "IPY_MODEL_31576e0584b040978cc5d0cb9544d86b",
              "IPY_MODEL_a8cc840e752243389c1eab4084e6a770"
            ],
            "layout": "IPY_MODEL_769d6c0758f84d78ab5ecf3971a5aa33"
          }
        },
        "37db2800f30e4ece90705f2cfab22ae6": {
          "model_module": "@jupyter-widgets/controls",
          "model_name": "HTMLModel",
          "model_module_version": "1.5.0",
          "state": {
            "_dom_classes": [],
            "_model_module": "@jupyter-widgets/controls",
            "_model_module_version": "1.5.0",
            "_model_name": "HTMLModel",
            "_view_count": null,
            "_view_module": "@jupyter-widgets/controls",
            "_view_module_version": "1.5.0",
            "_view_name": "HTMLView",
            "description": "",
            "description_tooltip": null,
            "layout": "IPY_MODEL_59ecb1dff6334ce79b6c76274efb260f",
            "placeholder": "​",
            "style": "IPY_MODEL_75be88c18b08450596fca54493f9b5c3",
            "value": "Validation DataLoader 0: 100%"
          }
        },
        "31576e0584b040978cc5d0cb9544d86b": {
          "model_module": "@jupyter-widgets/controls",
          "model_name": "FloatProgressModel",
          "model_module_version": "1.5.0",
          "state": {
            "_dom_classes": [],
            "_model_module": "@jupyter-widgets/controls",
            "_model_module_version": "1.5.0",
            "_model_name": "FloatProgressModel",
            "_view_count": null,
            "_view_module": "@jupyter-widgets/controls",
            "_view_module_version": "1.5.0",
            "_view_name": "ProgressView",
            "bar_style": "",
            "description": "",
            "description_tooltip": null,
            "layout": "IPY_MODEL_e543ffd431bb47df9cdf4e8084a45d99",
            "max": 554,
            "min": 0,
            "orientation": "horizontal",
            "style": "IPY_MODEL_8a26760f4db744db9e39afafe7d5c3bd",
            "value": 554
          }
        },
        "a8cc840e752243389c1eab4084e6a770": {
          "model_module": "@jupyter-widgets/controls",
          "model_name": "HTMLModel",
          "model_module_version": "1.5.0",
          "state": {
            "_dom_classes": [],
            "_model_module": "@jupyter-widgets/controls",
            "_model_module_version": "1.5.0",
            "_model_name": "HTMLModel",
            "_view_count": null,
            "_view_module": "@jupyter-widgets/controls",
            "_view_module_version": "1.5.0",
            "_view_name": "HTMLView",
            "description": "",
            "description_tooltip": null,
            "layout": "IPY_MODEL_69e2e4f679c14685b55f91bce2a8cdb8",
            "placeholder": "​",
            "style": "IPY_MODEL_931540a6a404434bad4327848d69f49a",
            "value": " 554/554 [00:07&lt;00:00, 76.37it/s]"
          }
        },
        "769d6c0758f84d78ab5ecf3971a5aa33": {
          "model_module": "@jupyter-widgets/base",
          "model_name": "LayoutModel",
          "model_module_version": "1.2.0",
          "state": {
            "_model_module": "@jupyter-widgets/base",
            "_model_module_version": "1.2.0",
            "_model_name": "LayoutModel",
            "_view_count": null,
            "_view_module": "@jupyter-widgets/base",
            "_view_module_version": "1.2.0",
            "_view_name": "LayoutView",
            "align_content": null,
            "align_items": null,
            "align_self": null,
            "border": null,
            "bottom": null,
            "display": "inline-flex",
            "flex": null,
            "flex_flow": "row wrap",
            "grid_area": null,
            "grid_auto_columns": null,
            "grid_auto_flow": null,
            "grid_auto_rows": null,
            "grid_column": null,
            "grid_gap": null,
            "grid_row": null,
            "grid_template_areas": null,
            "grid_template_columns": null,
            "grid_template_rows": null,
            "height": null,
            "justify_content": null,
            "justify_items": null,
            "left": null,
            "margin": null,
            "max_height": null,
            "max_width": null,
            "min_height": null,
            "min_width": null,
            "object_fit": null,
            "object_position": null,
            "order": null,
            "overflow": null,
            "overflow_x": null,
            "overflow_y": null,
            "padding": null,
            "right": null,
            "top": null,
            "visibility": "hidden",
            "width": "100%"
          }
        },
        "59ecb1dff6334ce79b6c76274efb260f": {
          "model_module": "@jupyter-widgets/base",
          "model_name": "LayoutModel",
          "model_module_version": "1.2.0",
          "state": {
            "_model_module": "@jupyter-widgets/base",
            "_model_module_version": "1.2.0",
            "_model_name": "LayoutModel",
            "_view_count": null,
            "_view_module": "@jupyter-widgets/base",
            "_view_module_version": "1.2.0",
            "_view_name": "LayoutView",
            "align_content": null,
            "align_items": null,
            "align_self": null,
            "border": null,
            "bottom": null,
            "display": null,
            "flex": null,
            "flex_flow": null,
            "grid_area": null,
            "grid_auto_columns": null,
            "grid_auto_flow": null,
            "grid_auto_rows": null,
            "grid_column": null,
            "grid_gap": null,
            "grid_row": null,
            "grid_template_areas": null,
            "grid_template_columns": null,
            "grid_template_rows": null,
            "height": null,
            "justify_content": null,
            "justify_items": null,
            "left": null,
            "margin": null,
            "max_height": null,
            "max_width": null,
            "min_height": null,
            "min_width": null,
            "object_fit": null,
            "object_position": null,
            "order": null,
            "overflow": null,
            "overflow_x": null,
            "overflow_y": null,
            "padding": null,
            "right": null,
            "top": null,
            "visibility": null,
            "width": null
          }
        },
        "75be88c18b08450596fca54493f9b5c3": {
          "model_module": "@jupyter-widgets/controls",
          "model_name": "DescriptionStyleModel",
          "model_module_version": "1.5.0",
          "state": {
            "_model_module": "@jupyter-widgets/controls",
            "_model_module_version": "1.5.0",
            "_model_name": "DescriptionStyleModel",
            "_view_count": null,
            "_view_module": "@jupyter-widgets/base",
            "_view_module_version": "1.2.0",
            "_view_name": "StyleView",
            "description_width": ""
          }
        },
        "e543ffd431bb47df9cdf4e8084a45d99": {
          "model_module": "@jupyter-widgets/base",
          "model_name": "LayoutModel",
          "model_module_version": "1.2.0",
          "state": {
            "_model_module": "@jupyter-widgets/base",
            "_model_module_version": "1.2.0",
            "_model_name": "LayoutModel",
            "_view_count": null,
            "_view_module": "@jupyter-widgets/base",
            "_view_module_version": "1.2.0",
            "_view_name": "LayoutView",
            "align_content": null,
            "align_items": null,
            "align_self": null,
            "border": null,
            "bottom": null,
            "display": null,
            "flex": "2",
            "flex_flow": null,
            "grid_area": null,
            "grid_auto_columns": null,
            "grid_auto_flow": null,
            "grid_auto_rows": null,
            "grid_column": null,
            "grid_gap": null,
            "grid_row": null,
            "grid_template_areas": null,
            "grid_template_columns": null,
            "grid_template_rows": null,
            "height": null,
            "justify_content": null,
            "justify_items": null,
            "left": null,
            "margin": null,
            "max_height": null,
            "max_width": null,
            "min_height": null,
            "min_width": null,
            "object_fit": null,
            "object_position": null,
            "order": null,
            "overflow": null,
            "overflow_x": null,
            "overflow_y": null,
            "padding": null,
            "right": null,
            "top": null,
            "visibility": null,
            "width": null
          }
        },
        "8a26760f4db744db9e39afafe7d5c3bd": {
          "model_module": "@jupyter-widgets/controls",
          "model_name": "ProgressStyleModel",
          "model_module_version": "1.5.0",
          "state": {
            "_model_module": "@jupyter-widgets/controls",
            "_model_module_version": "1.5.0",
            "_model_name": "ProgressStyleModel",
            "_view_count": null,
            "_view_module": "@jupyter-widgets/base",
            "_view_module_version": "1.2.0",
            "_view_name": "StyleView",
            "bar_color": null,
            "description_width": ""
          }
        },
        "69e2e4f679c14685b55f91bce2a8cdb8": {
          "model_module": "@jupyter-widgets/base",
          "model_name": "LayoutModel",
          "model_module_version": "1.2.0",
          "state": {
            "_model_module": "@jupyter-widgets/base",
            "_model_module_version": "1.2.0",
            "_model_name": "LayoutModel",
            "_view_count": null,
            "_view_module": "@jupyter-widgets/base",
            "_view_module_version": "1.2.0",
            "_view_name": "LayoutView",
            "align_content": null,
            "align_items": null,
            "align_self": null,
            "border": null,
            "bottom": null,
            "display": null,
            "flex": null,
            "flex_flow": null,
            "grid_area": null,
            "grid_auto_columns": null,
            "grid_auto_flow": null,
            "grid_auto_rows": null,
            "grid_column": null,
            "grid_gap": null,
            "grid_row": null,
            "grid_template_areas": null,
            "grid_template_columns": null,
            "grid_template_rows": null,
            "height": null,
            "justify_content": null,
            "justify_items": null,
            "left": null,
            "margin": null,
            "max_height": null,
            "max_width": null,
            "min_height": null,
            "min_width": null,
            "object_fit": null,
            "object_position": null,
            "order": null,
            "overflow": null,
            "overflow_x": null,
            "overflow_y": null,
            "padding": null,
            "right": null,
            "top": null,
            "visibility": null,
            "width": null
          }
        },
        "931540a6a404434bad4327848d69f49a": {
          "model_module": "@jupyter-widgets/controls",
          "model_name": "DescriptionStyleModel",
          "model_module_version": "1.5.0",
          "state": {
            "_model_module": "@jupyter-widgets/controls",
            "_model_module_version": "1.5.0",
            "_model_name": "DescriptionStyleModel",
            "_view_count": null,
            "_view_module": "@jupyter-widgets/base",
            "_view_module_version": "1.2.0",
            "_view_name": "StyleView",
            "description_width": ""
          }
        },
        "09305c9bcf8e4d2d932536df88396ad8": {
          "model_module": "@jupyter-widgets/controls",
          "model_name": "HBoxModel",
          "model_module_version": "1.5.0",
          "state": {
            "_dom_classes": [],
            "_model_module": "@jupyter-widgets/controls",
            "_model_module_version": "1.5.0",
            "_model_name": "HBoxModel",
            "_view_count": null,
            "_view_module": "@jupyter-widgets/controls",
            "_view_module_version": "1.5.0",
            "_view_name": "HBoxView",
            "box_style": "",
            "children": [
              "IPY_MODEL_35453be9da124b7591bdd8ce595bfe14",
              "IPY_MODEL_9d3c17202eb5433c9639c64a55393e5d",
              "IPY_MODEL_b2ca9eff8c684ac3ac1c9a024ba77291"
            ],
            "layout": "IPY_MODEL_418c2e1aa0714e8f994a5a22864e13d1"
          }
        },
        "35453be9da124b7591bdd8ce595bfe14": {
          "model_module": "@jupyter-widgets/controls",
          "model_name": "HTMLModel",
          "model_module_version": "1.5.0",
          "state": {
            "_dom_classes": [],
            "_model_module": "@jupyter-widgets/controls",
            "_model_module_version": "1.5.0",
            "_model_name": "HTMLModel",
            "_view_count": null,
            "_view_module": "@jupyter-widgets/controls",
            "_view_module_version": "1.5.0",
            "_view_name": "HTMLView",
            "description": "",
            "description_tooltip": null,
            "layout": "IPY_MODEL_12fdc504feac4a66b34e2997dcf50b8c",
            "placeholder": "​",
            "style": "IPY_MODEL_2d5fc2f0645642f2953a3960f3250b12",
            "value": "Validation DataLoader 0: 100%"
          }
        },
        "9d3c17202eb5433c9639c64a55393e5d": {
          "model_module": "@jupyter-widgets/controls",
          "model_name": "FloatProgressModel",
          "model_module_version": "1.5.0",
          "state": {
            "_dom_classes": [],
            "_model_module": "@jupyter-widgets/controls",
            "_model_module_version": "1.5.0",
            "_model_name": "FloatProgressModel",
            "_view_count": null,
            "_view_module": "@jupyter-widgets/controls",
            "_view_module_version": "1.5.0",
            "_view_name": "ProgressView",
            "bar_style": "",
            "description": "",
            "description_tooltip": null,
            "layout": "IPY_MODEL_bde15ff865c44668a18302f7c6eac074",
            "max": 554,
            "min": 0,
            "orientation": "horizontal",
            "style": "IPY_MODEL_f31679730f92427cbc337abc1767bf1c",
            "value": 554
          }
        },
        "b2ca9eff8c684ac3ac1c9a024ba77291": {
          "model_module": "@jupyter-widgets/controls",
          "model_name": "HTMLModel",
          "model_module_version": "1.5.0",
          "state": {
            "_dom_classes": [],
            "_model_module": "@jupyter-widgets/controls",
            "_model_module_version": "1.5.0",
            "_model_name": "HTMLModel",
            "_view_count": null,
            "_view_module": "@jupyter-widgets/controls",
            "_view_module_version": "1.5.0",
            "_view_name": "HTMLView",
            "description": "",
            "description_tooltip": null,
            "layout": "IPY_MODEL_7a7b832f63f742408d3089c1e5f18732",
            "placeholder": "​",
            "style": "IPY_MODEL_81a8f1821d324b908beedd73df4b4ca7",
            "value": " 554/554 [00:04&lt;00:00, 125.57it/s]"
          }
        },
        "418c2e1aa0714e8f994a5a22864e13d1": {
          "model_module": "@jupyter-widgets/base",
          "model_name": "LayoutModel",
          "model_module_version": "1.2.0",
          "state": {
            "_model_module": "@jupyter-widgets/base",
            "_model_module_version": "1.2.0",
            "_model_name": "LayoutModel",
            "_view_count": null,
            "_view_module": "@jupyter-widgets/base",
            "_view_module_version": "1.2.0",
            "_view_name": "LayoutView",
            "align_content": null,
            "align_items": null,
            "align_self": null,
            "border": null,
            "bottom": null,
            "display": "inline-flex",
            "flex": null,
            "flex_flow": "row wrap",
            "grid_area": null,
            "grid_auto_columns": null,
            "grid_auto_flow": null,
            "grid_auto_rows": null,
            "grid_column": null,
            "grid_gap": null,
            "grid_row": null,
            "grid_template_areas": null,
            "grid_template_columns": null,
            "grid_template_rows": null,
            "height": null,
            "justify_content": null,
            "justify_items": null,
            "left": null,
            "margin": null,
            "max_height": null,
            "max_width": null,
            "min_height": null,
            "min_width": null,
            "object_fit": null,
            "object_position": null,
            "order": null,
            "overflow": null,
            "overflow_x": null,
            "overflow_y": null,
            "padding": null,
            "right": null,
            "top": null,
            "visibility": "hidden",
            "width": "100%"
          }
        },
        "12fdc504feac4a66b34e2997dcf50b8c": {
          "model_module": "@jupyter-widgets/base",
          "model_name": "LayoutModel",
          "model_module_version": "1.2.0",
          "state": {
            "_model_module": "@jupyter-widgets/base",
            "_model_module_version": "1.2.0",
            "_model_name": "LayoutModel",
            "_view_count": null,
            "_view_module": "@jupyter-widgets/base",
            "_view_module_version": "1.2.0",
            "_view_name": "LayoutView",
            "align_content": null,
            "align_items": null,
            "align_self": null,
            "border": null,
            "bottom": null,
            "display": null,
            "flex": null,
            "flex_flow": null,
            "grid_area": null,
            "grid_auto_columns": null,
            "grid_auto_flow": null,
            "grid_auto_rows": null,
            "grid_column": null,
            "grid_gap": null,
            "grid_row": null,
            "grid_template_areas": null,
            "grid_template_columns": null,
            "grid_template_rows": null,
            "height": null,
            "justify_content": null,
            "justify_items": null,
            "left": null,
            "margin": null,
            "max_height": null,
            "max_width": null,
            "min_height": null,
            "min_width": null,
            "object_fit": null,
            "object_position": null,
            "order": null,
            "overflow": null,
            "overflow_x": null,
            "overflow_y": null,
            "padding": null,
            "right": null,
            "top": null,
            "visibility": null,
            "width": null
          }
        },
        "2d5fc2f0645642f2953a3960f3250b12": {
          "model_module": "@jupyter-widgets/controls",
          "model_name": "DescriptionStyleModel",
          "model_module_version": "1.5.0",
          "state": {
            "_model_module": "@jupyter-widgets/controls",
            "_model_module_version": "1.5.0",
            "_model_name": "DescriptionStyleModel",
            "_view_count": null,
            "_view_module": "@jupyter-widgets/base",
            "_view_module_version": "1.2.0",
            "_view_name": "StyleView",
            "description_width": ""
          }
        },
        "bde15ff865c44668a18302f7c6eac074": {
          "model_module": "@jupyter-widgets/base",
          "model_name": "LayoutModel",
          "model_module_version": "1.2.0",
          "state": {
            "_model_module": "@jupyter-widgets/base",
            "_model_module_version": "1.2.0",
            "_model_name": "LayoutModel",
            "_view_count": null,
            "_view_module": "@jupyter-widgets/base",
            "_view_module_version": "1.2.0",
            "_view_name": "LayoutView",
            "align_content": null,
            "align_items": null,
            "align_self": null,
            "border": null,
            "bottom": null,
            "display": null,
            "flex": "2",
            "flex_flow": null,
            "grid_area": null,
            "grid_auto_columns": null,
            "grid_auto_flow": null,
            "grid_auto_rows": null,
            "grid_column": null,
            "grid_gap": null,
            "grid_row": null,
            "grid_template_areas": null,
            "grid_template_columns": null,
            "grid_template_rows": null,
            "height": null,
            "justify_content": null,
            "justify_items": null,
            "left": null,
            "margin": null,
            "max_height": null,
            "max_width": null,
            "min_height": null,
            "min_width": null,
            "object_fit": null,
            "object_position": null,
            "order": null,
            "overflow": null,
            "overflow_x": null,
            "overflow_y": null,
            "padding": null,
            "right": null,
            "top": null,
            "visibility": null,
            "width": null
          }
        },
        "f31679730f92427cbc337abc1767bf1c": {
          "model_module": "@jupyter-widgets/controls",
          "model_name": "ProgressStyleModel",
          "model_module_version": "1.5.0",
          "state": {
            "_model_module": "@jupyter-widgets/controls",
            "_model_module_version": "1.5.0",
            "_model_name": "ProgressStyleModel",
            "_view_count": null,
            "_view_module": "@jupyter-widgets/base",
            "_view_module_version": "1.2.0",
            "_view_name": "StyleView",
            "bar_color": null,
            "description_width": ""
          }
        },
        "7a7b832f63f742408d3089c1e5f18732": {
          "model_module": "@jupyter-widgets/base",
          "model_name": "LayoutModel",
          "model_module_version": "1.2.0",
          "state": {
            "_model_module": "@jupyter-widgets/base",
            "_model_module_version": "1.2.0",
            "_model_name": "LayoutModel",
            "_view_count": null,
            "_view_module": "@jupyter-widgets/base",
            "_view_module_version": "1.2.0",
            "_view_name": "LayoutView",
            "align_content": null,
            "align_items": null,
            "align_self": null,
            "border": null,
            "bottom": null,
            "display": null,
            "flex": null,
            "flex_flow": null,
            "grid_area": null,
            "grid_auto_columns": null,
            "grid_auto_flow": null,
            "grid_auto_rows": null,
            "grid_column": null,
            "grid_gap": null,
            "grid_row": null,
            "grid_template_areas": null,
            "grid_template_columns": null,
            "grid_template_rows": null,
            "height": null,
            "justify_content": null,
            "justify_items": null,
            "left": null,
            "margin": null,
            "max_height": null,
            "max_width": null,
            "min_height": null,
            "min_width": null,
            "object_fit": null,
            "object_position": null,
            "order": null,
            "overflow": null,
            "overflow_x": null,
            "overflow_y": null,
            "padding": null,
            "right": null,
            "top": null,
            "visibility": null,
            "width": null
          }
        },
        "81a8f1821d324b908beedd73df4b4ca7": {
          "model_module": "@jupyter-widgets/controls",
          "model_name": "DescriptionStyleModel",
          "model_module_version": "1.5.0",
          "state": {
            "_model_module": "@jupyter-widgets/controls",
            "_model_module_version": "1.5.0",
            "_model_name": "DescriptionStyleModel",
            "_view_count": null,
            "_view_module": "@jupyter-widgets/base",
            "_view_module_version": "1.2.0",
            "_view_name": "StyleView",
            "description_width": ""
          }
        },
        "d2b5f86a6c3f45b9b54a9c463275de7c": {
          "model_module": "@jupyter-widgets/controls",
          "model_name": "HBoxModel",
          "model_module_version": "1.5.0",
          "state": {
            "_dom_classes": [],
            "_model_module": "@jupyter-widgets/controls",
            "_model_module_version": "1.5.0",
            "_model_name": "HBoxModel",
            "_view_count": null,
            "_view_module": "@jupyter-widgets/controls",
            "_view_module_version": "1.5.0",
            "_view_name": "HBoxView",
            "box_style": "",
            "children": [
              "IPY_MODEL_fad86d4e82b4402b9b7523bb720eef84",
              "IPY_MODEL_b0038228bc374d1dac530311ed56a340",
              "IPY_MODEL_056d5fd5189844abad713eba2b0b2c3d"
            ],
            "layout": "IPY_MODEL_ce86e9096afc422e8b8b93181c822663"
          }
        },
        "fad86d4e82b4402b9b7523bb720eef84": {
          "model_module": "@jupyter-widgets/controls",
          "model_name": "HTMLModel",
          "model_module_version": "1.5.0",
          "state": {
            "_dom_classes": [],
            "_model_module": "@jupyter-widgets/controls",
            "_model_module_version": "1.5.0",
            "_model_name": "HTMLModel",
            "_view_count": null,
            "_view_module": "@jupyter-widgets/controls",
            "_view_module_version": "1.5.0",
            "_view_name": "HTMLView",
            "description": "",
            "description_tooltip": null,
            "layout": "IPY_MODEL_7a1e450456d748aeb7bf5090f3ae2914",
            "placeholder": "​",
            "style": "IPY_MODEL_b011a65f790241239ef04887faec9cfb",
            "value": "Validation DataLoader 0: 100%"
          }
        },
        "b0038228bc374d1dac530311ed56a340": {
          "model_module": "@jupyter-widgets/controls",
          "model_name": "FloatProgressModel",
          "model_module_version": "1.5.0",
          "state": {
            "_dom_classes": [],
            "_model_module": "@jupyter-widgets/controls",
            "_model_module_version": "1.5.0",
            "_model_name": "FloatProgressModel",
            "_view_count": null,
            "_view_module": "@jupyter-widgets/controls",
            "_view_module_version": "1.5.0",
            "_view_name": "ProgressView",
            "bar_style": "success",
            "description": "",
            "description_tooltip": null,
            "layout": "IPY_MODEL_9edeb7ee873c44a495ab6030c0656dcd",
            "max": 554,
            "min": 0,
            "orientation": "horizontal",
            "style": "IPY_MODEL_38570c69eafe4bbd893c0b24a22f2ee4",
            "value": 554
          }
        },
        "056d5fd5189844abad713eba2b0b2c3d": {
          "model_module": "@jupyter-widgets/controls",
          "model_name": "HTMLModel",
          "model_module_version": "1.5.0",
          "state": {
            "_dom_classes": [],
            "_model_module": "@jupyter-widgets/controls",
            "_model_module_version": "1.5.0",
            "_model_name": "HTMLModel",
            "_view_count": null,
            "_view_module": "@jupyter-widgets/controls",
            "_view_module_version": "1.5.0",
            "_view_name": "HTMLView",
            "description": "",
            "description_tooltip": null,
            "layout": "IPY_MODEL_1cc401908b874db98dbcd06b4983f1fa",
            "placeholder": "​",
            "style": "IPY_MODEL_4075bdcaf6994cf98ef5b883abac1ce6",
            "value": " 554/554 [00:05&lt;00:00, 95.50it/s]"
          }
        },
        "ce86e9096afc422e8b8b93181c822663": {
          "model_module": "@jupyter-widgets/base",
          "model_name": "LayoutModel",
          "model_module_version": "1.2.0",
          "state": {
            "_model_module": "@jupyter-widgets/base",
            "_model_module_version": "1.2.0",
            "_model_name": "LayoutModel",
            "_view_count": null,
            "_view_module": "@jupyter-widgets/base",
            "_view_module_version": "1.2.0",
            "_view_name": "LayoutView",
            "align_content": null,
            "align_items": null,
            "align_self": null,
            "border": null,
            "bottom": null,
            "display": "inline-flex",
            "flex": null,
            "flex_flow": "row wrap",
            "grid_area": null,
            "grid_auto_columns": null,
            "grid_auto_flow": null,
            "grid_auto_rows": null,
            "grid_column": null,
            "grid_gap": null,
            "grid_row": null,
            "grid_template_areas": null,
            "grid_template_columns": null,
            "grid_template_rows": null,
            "height": null,
            "justify_content": null,
            "justify_items": null,
            "left": null,
            "margin": null,
            "max_height": null,
            "max_width": null,
            "min_height": null,
            "min_width": null,
            "object_fit": null,
            "object_position": null,
            "order": null,
            "overflow": null,
            "overflow_x": null,
            "overflow_y": null,
            "padding": null,
            "right": null,
            "top": null,
            "visibility": null,
            "width": "100%"
          }
        },
        "7a1e450456d748aeb7bf5090f3ae2914": {
          "model_module": "@jupyter-widgets/base",
          "model_name": "LayoutModel",
          "model_module_version": "1.2.0",
          "state": {
            "_model_module": "@jupyter-widgets/base",
            "_model_module_version": "1.2.0",
            "_model_name": "LayoutModel",
            "_view_count": null,
            "_view_module": "@jupyter-widgets/base",
            "_view_module_version": "1.2.0",
            "_view_name": "LayoutView",
            "align_content": null,
            "align_items": null,
            "align_self": null,
            "border": null,
            "bottom": null,
            "display": null,
            "flex": null,
            "flex_flow": null,
            "grid_area": null,
            "grid_auto_columns": null,
            "grid_auto_flow": null,
            "grid_auto_rows": null,
            "grid_column": null,
            "grid_gap": null,
            "grid_row": null,
            "grid_template_areas": null,
            "grid_template_columns": null,
            "grid_template_rows": null,
            "height": null,
            "justify_content": null,
            "justify_items": null,
            "left": null,
            "margin": null,
            "max_height": null,
            "max_width": null,
            "min_height": null,
            "min_width": null,
            "object_fit": null,
            "object_position": null,
            "order": null,
            "overflow": null,
            "overflow_x": null,
            "overflow_y": null,
            "padding": null,
            "right": null,
            "top": null,
            "visibility": null,
            "width": null
          }
        },
        "b011a65f790241239ef04887faec9cfb": {
          "model_module": "@jupyter-widgets/controls",
          "model_name": "DescriptionStyleModel",
          "model_module_version": "1.5.0",
          "state": {
            "_model_module": "@jupyter-widgets/controls",
            "_model_module_version": "1.5.0",
            "_model_name": "DescriptionStyleModel",
            "_view_count": null,
            "_view_module": "@jupyter-widgets/base",
            "_view_module_version": "1.2.0",
            "_view_name": "StyleView",
            "description_width": ""
          }
        },
        "9edeb7ee873c44a495ab6030c0656dcd": {
          "model_module": "@jupyter-widgets/base",
          "model_name": "LayoutModel",
          "model_module_version": "1.2.0",
          "state": {
            "_model_module": "@jupyter-widgets/base",
            "_model_module_version": "1.2.0",
            "_model_name": "LayoutModel",
            "_view_count": null,
            "_view_module": "@jupyter-widgets/base",
            "_view_module_version": "1.2.0",
            "_view_name": "LayoutView",
            "align_content": null,
            "align_items": null,
            "align_self": null,
            "border": null,
            "bottom": null,
            "display": null,
            "flex": "2",
            "flex_flow": null,
            "grid_area": null,
            "grid_auto_columns": null,
            "grid_auto_flow": null,
            "grid_auto_rows": null,
            "grid_column": null,
            "grid_gap": null,
            "grid_row": null,
            "grid_template_areas": null,
            "grid_template_columns": null,
            "grid_template_rows": null,
            "height": null,
            "justify_content": null,
            "justify_items": null,
            "left": null,
            "margin": null,
            "max_height": null,
            "max_width": null,
            "min_height": null,
            "min_width": null,
            "object_fit": null,
            "object_position": null,
            "order": null,
            "overflow": null,
            "overflow_x": null,
            "overflow_y": null,
            "padding": null,
            "right": null,
            "top": null,
            "visibility": null,
            "width": null
          }
        },
        "38570c69eafe4bbd893c0b24a22f2ee4": {
          "model_module": "@jupyter-widgets/controls",
          "model_name": "ProgressStyleModel",
          "model_module_version": "1.5.0",
          "state": {
            "_model_module": "@jupyter-widgets/controls",
            "_model_module_version": "1.5.0",
            "_model_name": "ProgressStyleModel",
            "_view_count": null,
            "_view_module": "@jupyter-widgets/base",
            "_view_module_version": "1.2.0",
            "_view_name": "StyleView",
            "bar_color": null,
            "description_width": ""
          }
        },
        "1cc401908b874db98dbcd06b4983f1fa": {
          "model_module": "@jupyter-widgets/base",
          "model_name": "LayoutModel",
          "model_module_version": "1.2.0",
          "state": {
            "_model_module": "@jupyter-widgets/base",
            "_model_module_version": "1.2.0",
            "_model_name": "LayoutModel",
            "_view_count": null,
            "_view_module": "@jupyter-widgets/base",
            "_view_module_version": "1.2.0",
            "_view_name": "LayoutView",
            "align_content": null,
            "align_items": null,
            "align_self": null,
            "border": null,
            "bottom": null,
            "display": null,
            "flex": null,
            "flex_flow": null,
            "grid_area": null,
            "grid_auto_columns": null,
            "grid_auto_flow": null,
            "grid_auto_rows": null,
            "grid_column": null,
            "grid_gap": null,
            "grid_row": null,
            "grid_template_areas": null,
            "grid_template_columns": null,
            "grid_template_rows": null,
            "height": null,
            "justify_content": null,
            "justify_items": null,
            "left": null,
            "margin": null,
            "max_height": null,
            "max_width": null,
            "min_height": null,
            "min_width": null,
            "object_fit": null,
            "object_position": null,
            "order": null,
            "overflow": null,
            "overflow_x": null,
            "overflow_y": null,
            "padding": null,
            "right": null,
            "top": null,
            "visibility": null,
            "width": null
          }
        },
        "4075bdcaf6994cf98ef5b883abac1ce6": {
          "model_module": "@jupyter-widgets/controls",
          "model_name": "DescriptionStyleModel",
          "model_module_version": "1.5.0",
          "state": {
            "_model_module": "@jupyter-widgets/controls",
            "_model_module_version": "1.5.0",
            "_model_name": "DescriptionStyleModel",
            "_view_count": null,
            "_view_module": "@jupyter-widgets/base",
            "_view_module_version": "1.2.0",
            "_view_name": "StyleView",
            "description_width": ""
          }
        }
      }
    },
    "accelerator": "GPU"
  },
  "cells": [
    {
      "cell_type": "markdown",
      "metadata": {
        "id": "view-in-github",
        "colab_type": "text"
      },
      "source": [
        "<a href=\"https://colab.research.google.com/github/Faig22/Neural_Collaborative_Filtering/blob/main/Rec_sys.ipynb\" target=\"_parent\"><img src=\"https://colab.research.google.com/assets/colab-badge.svg\" alt=\"Open In Colab\"/></a>"
      ]
    },
    {
      "cell_type": "markdown",
      "source": [
        "# Тестовое задание от VK"
      ],
      "metadata": {
        "id": "PH4zyx_0TEvG"
      }
    },
    {
      "cell_type": "markdown",
      "source": [
        "Необходимо реализовать рекомендательную систему на нейросетевом подходе. Я попробую реализовать в этом ноутбуке ***Neural Collaborative Filtering*** (***NCF***). \n",
        "\n",
        "Этот подход основан на сравнении пользователей между собой с точки зрения оценок просмотренных фильмов, и далее предсказании оценки фильма, который заинтересует данного пользователя на основании того, что похожие на него пользователи смотрели этот фильм."
      ],
      "metadata": {
        "id": "ySqIpvsgTSFG"
      }
    },
    {
      "cell_type": "markdown",
      "source": [
        "## Импорт библиотек"
      ],
      "metadata": {
        "id": "cSOcV-buTwFr"
      }
    },
    {
      "cell_type": "code",
      "execution_count": null,
      "metadata": {
        "id": "i0CShOqVRYgu"
      },
      "outputs": [],
      "source": [
        "import pandas as pd\n",
        "import numpy as np\n",
        "import matplotlib.pyplot as plt\n",
        "import seaborn as sns\n",
        "\n",
        "import torch\n",
        "from torch.utils.data import Dataset, DataLoader\n",
        "from torch import nn\n",
        "import pytorch_lightning as pl\n",
        "\n",
        "from tqdm.notebook import tqdm"
      ]
    },
    {
      "cell_type": "code",
      "source": [
        "# pip install pytorch_lightning"
      ],
      "metadata": {
        "id": "7IcxjERA68r1"
      },
      "execution_count": null,
      "outputs": []
    },
    {
      "cell_type": "markdown",
      "source": [
        "## Загрузка данных"
      ],
      "metadata": {
        "id": "VEDgc5-E57T2"
      }
    },
    {
      "cell_type": "code",
      "source": [
        "from google.colab import drive\n",
        "drive.mount('/content/drive')"
      ],
      "metadata": {
        "colab": {
          "base_uri": "https://localhost:8080/"
        },
        "id": "tolt2vqlRc0N",
        "outputId": "7d977039-2887-4a1b-b4db-bdd4b8c67724"
      },
      "execution_count": null,
      "outputs": [
        {
          "output_type": "stream",
          "name": "stdout",
          "text": [
            "Mounted at /content/drive\n"
          ]
        }
      ]
    },
    {
      "cell_type": "code",
      "source": [
        "from zipfile import ZipFile\n",
        "\n",
        "with ZipFile(\"drive/MyDrive/Deep Learning projects/Тестовые/VK/ml-latest.zip\") as myzip:\n",
        "    movie = myzip.open(\"ml-latest/movies.csv\")\n",
        "    ratings = myzip.open(\"ml-latest/ratings.csv\")\n",
        "      \n",
        "movies = pd.read_csv(movie)\n",
        "ratings = pd.read_csv(ratings)"
      ],
      "metadata": {
        "id": "6I21orFZRcxq"
      },
      "execution_count": null,
      "outputs": []
    },
    {
      "cell_type": "code",
      "source": [
        "movies.head()"
      ],
      "metadata": {
        "colab": {
          "base_uri": "https://localhost:8080/",
          "height": 206
        },
        "id": "7gQ5BMpfRcpq",
        "outputId": "7a51fb11-ee6b-47df-b659-c9c781ef3bac"
      },
      "execution_count": null,
      "outputs": [
        {
          "output_type": "execute_result",
          "data": {
            "text/plain": [
              "   movieId                               title  \\\n",
              "0        1                    Toy Story (1995)   \n",
              "1        2                      Jumanji (1995)   \n",
              "2        3             Grumpier Old Men (1995)   \n",
              "3        4            Waiting to Exhale (1995)   \n",
              "4        5  Father of the Bride Part II (1995)   \n",
              "\n",
              "                                        genres  \n",
              "0  Adventure|Animation|Children|Comedy|Fantasy  \n",
              "1                   Adventure|Children|Fantasy  \n",
              "2                               Comedy|Romance  \n",
              "3                         Comedy|Drama|Romance  \n",
              "4                                       Comedy  "
            ],
            "text/html": [
              "\n",
              "  <div id=\"df-bd4d9942-79f9-44ed-ba84-1fb39899fb38\">\n",
              "    <div class=\"colab-df-container\">\n",
              "      <div>\n",
              "<style scoped>\n",
              "    .dataframe tbody tr th:only-of-type {\n",
              "        vertical-align: middle;\n",
              "    }\n",
              "\n",
              "    .dataframe tbody tr th {\n",
              "        vertical-align: top;\n",
              "    }\n",
              "\n",
              "    .dataframe thead th {\n",
              "        text-align: right;\n",
              "    }\n",
              "</style>\n",
              "<table border=\"1\" class=\"dataframe\">\n",
              "  <thead>\n",
              "    <tr style=\"text-align: right;\">\n",
              "      <th></th>\n",
              "      <th>movieId</th>\n",
              "      <th>title</th>\n",
              "      <th>genres</th>\n",
              "    </tr>\n",
              "  </thead>\n",
              "  <tbody>\n",
              "    <tr>\n",
              "      <th>0</th>\n",
              "      <td>1</td>\n",
              "      <td>Toy Story (1995)</td>\n",
              "      <td>Adventure|Animation|Children|Comedy|Fantasy</td>\n",
              "    </tr>\n",
              "    <tr>\n",
              "      <th>1</th>\n",
              "      <td>2</td>\n",
              "      <td>Jumanji (1995)</td>\n",
              "      <td>Adventure|Children|Fantasy</td>\n",
              "    </tr>\n",
              "    <tr>\n",
              "      <th>2</th>\n",
              "      <td>3</td>\n",
              "      <td>Grumpier Old Men (1995)</td>\n",
              "      <td>Comedy|Romance</td>\n",
              "    </tr>\n",
              "    <tr>\n",
              "      <th>3</th>\n",
              "      <td>4</td>\n",
              "      <td>Waiting to Exhale (1995)</td>\n",
              "      <td>Comedy|Drama|Romance</td>\n",
              "    </tr>\n",
              "    <tr>\n",
              "      <th>4</th>\n",
              "      <td>5</td>\n",
              "      <td>Father of the Bride Part II (1995)</td>\n",
              "      <td>Comedy</td>\n",
              "    </tr>\n",
              "  </tbody>\n",
              "</table>\n",
              "</div>\n",
              "      <button class=\"colab-df-convert\" onclick=\"convertToInteractive('df-bd4d9942-79f9-44ed-ba84-1fb39899fb38')\"\n",
              "              title=\"Convert this dataframe to an interactive table.\"\n",
              "              style=\"display:none;\">\n",
              "        \n",
              "  <svg xmlns=\"http://www.w3.org/2000/svg\" height=\"24px\"viewBox=\"0 0 24 24\"\n",
              "       width=\"24px\">\n",
              "    <path d=\"M0 0h24v24H0V0z\" fill=\"none\"/>\n",
              "    <path d=\"M18.56 5.44l.94 2.06.94-2.06 2.06-.94-2.06-.94-.94-2.06-.94 2.06-2.06.94zm-11 1L8.5 8.5l.94-2.06 2.06-.94-2.06-.94L8.5 2.5l-.94 2.06-2.06.94zm10 10l.94 2.06.94-2.06 2.06-.94-2.06-.94-.94-2.06-.94 2.06-2.06.94z\"/><path d=\"M17.41 7.96l-1.37-1.37c-.4-.4-.92-.59-1.43-.59-.52 0-1.04.2-1.43.59L10.3 9.45l-7.72 7.72c-.78.78-.78 2.05 0 2.83L4 21.41c.39.39.9.59 1.41.59.51 0 1.02-.2 1.41-.59l7.78-7.78 2.81-2.81c.8-.78.8-2.07 0-2.86zM5.41 20L4 18.59l7.72-7.72 1.47 1.35L5.41 20z\"/>\n",
              "  </svg>\n",
              "      </button>\n",
              "      \n",
              "  <style>\n",
              "    .colab-df-container {\n",
              "      display:flex;\n",
              "      flex-wrap:wrap;\n",
              "      gap: 12px;\n",
              "    }\n",
              "\n",
              "    .colab-df-convert {\n",
              "      background-color: #E8F0FE;\n",
              "      border: none;\n",
              "      border-radius: 50%;\n",
              "      cursor: pointer;\n",
              "      display: none;\n",
              "      fill: #1967D2;\n",
              "      height: 32px;\n",
              "      padding: 0 0 0 0;\n",
              "      width: 32px;\n",
              "    }\n",
              "\n",
              "    .colab-df-convert:hover {\n",
              "      background-color: #E2EBFA;\n",
              "      box-shadow: 0px 1px 2px rgba(60, 64, 67, 0.3), 0px 1px 3px 1px rgba(60, 64, 67, 0.15);\n",
              "      fill: #174EA6;\n",
              "    }\n",
              "\n",
              "    [theme=dark] .colab-df-convert {\n",
              "      background-color: #3B4455;\n",
              "      fill: #D2E3FC;\n",
              "    }\n",
              "\n",
              "    [theme=dark] .colab-df-convert:hover {\n",
              "      background-color: #434B5C;\n",
              "      box-shadow: 0px 1px 3px 1px rgba(0, 0, 0, 0.15);\n",
              "      filter: drop-shadow(0px 1px 2px rgba(0, 0, 0, 0.3));\n",
              "      fill: #FFFFFF;\n",
              "    }\n",
              "  </style>\n",
              "\n",
              "      <script>\n",
              "        const buttonEl =\n",
              "          document.querySelector('#df-bd4d9942-79f9-44ed-ba84-1fb39899fb38 button.colab-df-convert');\n",
              "        buttonEl.style.display =\n",
              "          google.colab.kernel.accessAllowed ? 'block' : 'none';\n",
              "\n",
              "        async function convertToInteractive(key) {\n",
              "          const element = document.querySelector('#df-bd4d9942-79f9-44ed-ba84-1fb39899fb38');\n",
              "          const dataTable =\n",
              "            await google.colab.kernel.invokeFunction('convertToInteractive',\n",
              "                                                     [key], {});\n",
              "          if (!dataTable) return;\n",
              "\n",
              "          const docLinkHtml = 'Like what you see? Visit the ' +\n",
              "            '<a target=\"_blank\" href=https://colab.research.google.com/notebooks/data_table.ipynb>data table notebook</a>'\n",
              "            + ' to learn more about interactive tables.';\n",
              "          element.innerHTML = '';\n",
              "          dataTable['output_type'] = 'display_data';\n",
              "          await google.colab.output.renderOutput(dataTable, element);\n",
              "          const docLink = document.createElement('div');\n",
              "          docLink.innerHTML = docLinkHtml;\n",
              "          element.appendChild(docLink);\n",
              "        }\n",
              "      </script>\n",
              "    </div>\n",
              "  </div>\n",
              "  "
            ]
          },
          "metadata": {},
          "execution_count": 4
        }
      ]
    },
    {
      "cell_type": "code",
      "source": [
        "ratings.head()"
      ],
      "metadata": {
        "colab": {
          "base_uri": "https://localhost:8080/",
          "height": 206
        },
        "id": "_6QxOtKPRcnM",
        "outputId": "07a0b1e5-1a90-4676-e59f-ee24deab9211"
      },
      "execution_count": null,
      "outputs": [
        {
          "output_type": "execute_result",
          "data": {
            "text/plain": [
              "   userId  movieId  rating   timestamp\n",
              "0       1      307     3.5  1256677221\n",
              "1       1      481     3.5  1256677456\n",
              "2       1     1091     1.5  1256677471\n",
              "3       1     1257     4.5  1256677460\n",
              "4       1     1449     4.5  1256677264"
            ],
            "text/html": [
              "\n",
              "  <div id=\"df-e7f6adcd-e26f-4c94-bc49-0276d58073c5\">\n",
              "    <div class=\"colab-df-container\">\n",
              "      <div>\n",
              "<style scoped>\n",
              "    .dataframe tbody tr th:only-of-type {\n",
              "        vertical-align: middle;\n",
              "    }\n",
              "\n",
              "    .dataframe tbody tr th {\n",
              "        vertical-align: top;\n",
              "    }\n",
              "\n",
              "    .dataframe thead th {\n",
              "        text-align: right;\n",
              "    }\n",
              "</style>\n",
              "<table border=\"1\" class=\"dataframe\">\n",
              "  <thead>\n",
              "    <tr style=\"text-align: right;\">\n",
              "      <th></th>\n",
              "      <th>userId</th>\n",
              "      <th>movieId</th>\n",
              "      <th>rating</th>\n",
              "      <th>timestamp</th>\n",
              "    </tr>\n",
              "  </thead>\n",
              "  <tbody>\n",
              "    <tr>\n",
              "      <th>0</th>\n",
              "      <td>1</td>\n",
              "      <td>307</td>\n",
              "      <td>3.5</td>\n",
              "      <td>1256677221</td>\n",
              "    </tr>\n",
              "    <tr>\n",
              "      <th>1</th>\n",
              "      <td>1</td>\n",
              "      <td>481</td>\n",
              "      <td>3.5</td>\n",
              "      <td>1256677456</td>\n",
              "    </tr>\n",
              "    <tr>\n",
              "      <th>2</th>\n",
              "      <td>1</td>\n",
              "      <td>1091</td>\n",
              "      <td>1.5</td>\n",
              "      <td>1256677471</td>\n",
              "    </tr>\n",
              "    <tr>\n",
              "      <th>3</th>\n",
              "      <td>1</td>\n",
              "      <td>1257</td>\n",
              "      <td>4.5</td>\n",
              "      <td>1256677460</td>\n",
              "    </tr>\n",
              "    <tr>\n",
              "      <th>4</th>\n",
              "      <td>1</td>\n",
              "      <td>1449</td>\n",
              "      <td>4.5</td>\n",
              "      <td>1256677264</td>\n",
              "    </tr>\n",
              "  </tbody>\n",
              "</table>\n",
              "</div>\n",
              "      <button class=\"colab-df-convert\" onclick=\"convertToInteractive('df-e7f6adcd-e26f-4c94-bc49-0276d58073c5')\"\n",
              "              title=\"Convert this dataframe to an interactive table.\"\n",
              "              style=\"display:none;\">\n",
              "        \n",
              "  <svg xmlns=\"http://www.w3.org/2000/svg\" height=\"24px\"viewBox=\"0 0 24 24\"\n",
              "       width=\"24px\">\n",
              "    <path d=\"M0 0h24v24H0V0z\" fill=\"none\"/>\n",
              "    <path d=\"M18.56 5.44l.94 2.06.94-2.06 2.06-.94-2.06-.94-.94-2.06-.94 2.06-2.06.94zm-11 1L8.5 8.5l.94-2.06 2.06-.94-2.06-.94L8.5 2.5l-.94 2.06-2.06.94zm10 10l.94 2.06.94-2.06 2.06-.94-2.06-.94-.94-2.06-.94 2.06-2.06.94z\"/><path d=\"M17.41 7.96l-1.37-1.37c-.4-.4-.92-.59-1.43-.59-.52 0-1.04.2-1.43.59L10.3 9.45l-7.72 7.72c-.78.78-.78 2.05 0 2.83L4 21.41c.39.39.9.59 1.41.59.51 0 1.02-.2 1.41-.59l7.78-7.78 2.81-2.81c.8-.78.8-2.07 0-2.86zM5.41 20L4 18.59l7.72-7.72 1.47 1.35L5.41 20z\"/>\n",
              "  </svg>\n",
              "      </button>\n",
              "      \n",
              "  <style>\n",
              "    .colab-df-container {\n",
              "      display:flex;\n",
              "      flex-wrap:wrap;\n",
              "      gap: 12px;\n",
              "    }\n",
              "\n",
              "    .colab-df-convert {\n",
              "      background-color: #E8F0FE;\n",
              "      border: none;\n",
              "      border-radius: 50%;\n",
              "      cursor: pointer;\n",
              "      display: none;\n",
              "      fill: #1967D2;\n",
              "      height: 32px;\n",
              "      padding: 0 0 0 0;\n",
              "      width: 32px;\n",
              "    }\n",
              "\n",
              "    .colab-df-convert:hover {\n",
              "      background-color: #E2EBFA;\n",
              "      box-shadow: 0px 1px 2px rgba(60, 64, 67, 0.3), 0px 1px 3px 1px rgba(60, 64, 67, 0.15);\n",
              "      fill: #174EA6;\n",
              "    }\n",
              "\n",
              "    [theme=dark] .colab-df-convert {\n",
              "      background-color: #3B4455;\n",
              "      fill: #D2E3FC;\n",
              "    }\n",
              "\n",
              "    [theme=dark] .colab-df-convert:hover {\n",
              "      background-color: #434B5C;\n",
              "      box-shadow: 0px 1px 3px 1px rgba(0, 0, 0, 0.15);\n",
              "      filter: drop-shadow(0px 1px 2px rgba(0, 0, 0, 0.3));\n",
              "      fill: #FFFFFF;\n",
              "    }\n",
              "  </style>\n",
              "\n",
              "      <script>\n",
              "        const buttonEl =\n",
              "          document.querySelector('#df-e7f6adcd-e26f-4c94-bc49-0276d58073c5 button.colab-df-convert');\n",
              "        buttonEl.style.display =\n",
              "          google.colab.kernel.accessAllowed ? 'block' : 'none';\n",
              "\n",
              "        async function convertToInteractive(key) {\n",
              "          const element = document.querySelector('#df-e7f6adcd-e26f-4c94-bc49-0276d58073c5');\n",
              "          const dataTable =\n",
              "            await google.colab.kernel.invokeFunction('convertToInteractive',\n",
              "                                                     [key], {});\n",
              "          if (!dataTable) return;\n",
              "\n",
              "          const docLinkHtml = 'Like what you see? Visit the ' +\n",
              "            '<a target=\"_blank\" href=https://colab.research.google.com/notebooks/data_table.ipynb>data table notebook</a>'\n",
              "            + ' to learn more about interactive tables.';\n",
              "          element.innerHTML = '';\n",
              "          dataTable['output_type'] = 'display_data';\n",
              "          await google.colab.output.renderOutput(dataTable, element);\n",
              "          const docLink = document.createElement('div');\n",
              "          docLink.innerHTML = docLinkHtml;\n",
              "          element.appendChild(docLink);\n",
              "        }\n",
              "      </script>\n",
              "    </div>\n",
              "  </div>\n",
              "  "
            ]
          },
          "metadata": {},
          "execution_count": 5
        }
      ]
    },
    {
      "cell_type": "markdown",
      "source": [
        "## Разведочный анализ данных"
      ],
      "metadata": {
        "id": "AdWrU9OBNLao"
      }
    },
    {
      "cell_type": "code",
      "source": [
        "print(f\"Размер таблицы movies: {movies.shape}\")\n",
        "print(f\"Размер таблицы ratings:{ratings.shape}\")\n",
        "print(30*'--')\n",
        "print(f'Кол-во уникальных фильмов: {ratings.movieId.nunique()}')\n",
        "print(f'Кол-во уникальных пользователей: {ratings.userId.nunique()}')"
      ],
      "metadata": {
        "colab": {
          "base_uri": "https://localhost:8080/"
        },
        "id": "kGM3A4KERckU",
        "outputId": "91296033-d9ff-4549-ec28-d8e29c166d3b"
      },
      "execution_count": null,
      "outputs": [
        {
          "output_type": "stream",
          "name": "stdout",
          "text": [
            "Размер таблицы movies: (58098, 3)\n",
            "Размер таблицы ratings:(27753444, 4)\n",
            "------------------------------------------------------------\n",
            "Кол-во уникальных фильмов: 53889\n",
            "Кол-во уникальных пользователей: 283228\n",
            "283228\n"
          ]
        }
      ]
    },
    {
      "cell_type": "code",
      "source": [
        "ratings.rating.value_counts().plot(kind='bar', title='Сортировка по кол-ву оценок за фильм')\n",
        "plt.show()"
      ],
      "metadata": {
        "colab": {
          "base_uri": "https://localhost:8080/",
          "height": 460
        },
        "id": "Km_HbPyyRchz",
        "outputId": "ccf624f8-4f30-4f08-94de-ab10eb061b65"
      },
      "execution_count": null,
      "outputs": [
        {
          "output_type": "display_data",
          "data": {
            "text/plain": [
              "<Figure size 640x480 with 1 Axes>"
            ],
            "image/png": "[encoded data removed]"
          },
          "metadata": {}
        }
      ]
    },
    {
      "cell_type": "markdown",
      "source": [
        "Высоких оценок предостаточно "
      ],
      "metadata": {
        "id": "Gmhmp_UdI-Yz"
      }
    },
    {
      "cell_type": "code",
      "source": [
        "movies.info()"
      ],
      "metadata": {
        "colab": {
          "base_uri": "https://localhost:8080/"
        },
        "id": "NCIDuPDARcfG",
        "outputId": "6acfd30c-692e-478f-d177-40830c79ea2f"
      },
      "execution_count": null,
      "outputs": [
        {
          "output_type": "stream",
          "name": "stdout",
          "text": [
            "<class 'pandas.core.frame.DataFrame'>\n",
            "RangeIndex: 58098 entries, 0 to 58097\n",
            "Data columns (total 3 columns):\n",
            " #   Column   Non-Null Count  Dtype \n",
            "---  ------   --------------  ----- \n",
            " 0   movieId  58098 non-null  int64 \n",
            " 1   title    58098 non-null  object\n",
            " 2   genres   58098 non-null  object\n",
            "dtypes: int64(1), object(2)\n",
            "memory usage: 1.3+ MB\n"
          ]
        }
      ]
    },
    {
      "cell_type": "markdown",
      "source": [
        "Пропусков в таблице ***movies*** нет"
      ],
      "metadata": {
        "id": "DzYo6B0CCIGs"
      }
    },
    {
      "cell_type": "code",
      "source": [
        "missing_train = (ratings.isnull().sum() / ratings.shape[0] * 100).sort_values(ascending=False)\n",
        "missing_train = missing_train[missing_train > 0]\n",
        "missing_train"
      ],
      "metadata": {
        "colab": {
          "base_uri": "https://localhost:8080/"
        },
        "id": "7l_NCvCDRcca",
        "outputId": "c8b0f8af-bdea-4341-90d1-579b895a4a00"
      },
      "execution_count": null,
      "outputs": [
        {
          "output_type": "execute_result",
          "data": {
            "text/plain": [
              "Series([], dtype: float64)"
            ]
          },
          "metadata": {},
          "execution_count": 9
        }
      ]
    },
    {
      "cell_type": "markdown",
      "source": [
        "В ***ratings*** пропусков тоже нет"
      ],
      "metadata": {
        "id": "rBpppTuBCaJV"
      }
    },
    {
      "cell_type": "code",
      "source": [
        "genres = movies['genres'].values\n",
        "genres = [genre.split('|') for genre in genres]\n",
        "\n",
        "count_genres = {}\n",
        "\n",
        "for genre in genres:\n",
        "    for g in genre:\n",
        "        if g in list(count_genres.keys()):\n",
        "            count_genres[g] += 1\n",
        "        else:\n",
        "            count_genres[g] = 1\n",
        "\n",
        "count_genres = sorted(count_genres.items(), key=lambda x:x[1], reverse=True)\n",
        "\n",
        "genres = [genre for genre, cnt in count_genres]\n",
        "cnt_genres = [cnt for genre, cnt in count_genres]"
      ],
      "metadata": {
        "id": "t62cyhI8RcWx"
      },
      "execution_count": null,
      "outputs": []
    },
    {
      "cell_type": "code",
      "source": [
        "plt.figure(figsize=(12,8))\n",
        "sns.barplot(x=cnt_genres, y=genres, orient='h').set_title('Количество жанров')\n",
        "plt.show()"
      ],
      "metadata": {
        "colab": {
          "base_uri": "https://localhost:8080/",
          "height": 699
        },
        "id": "E0AecxjqRcRj",
        "outputId": "31c3ae1d-37f3-4790-de66-816cbde7b8a1"
      },
      "execution_count": null,
      "outputs": [
        {
          "output_type": "display_data",
          "data": {
            "text/plain": [
              "<Figure size 1200x800 with 1 Axes>"
            ],
            "image/png": "[encoded data removed]"
          },
          "metadata": {}
        }
      ]
    },
    {
      "cell_type": "markdown",
      "source": [
        "Подавляющее большинство драматических фильмов, а также комедии "
      ],
      "metadata": {
        "id": "kO_HG-h5H_Yp"
      }
    },
    {
      "cell_type": "markdown",
      "source": [
        "### Разбиение данных на обучение и валидацию"
      ],
      "metadata": {
        "id": "xi60pJ7cM6W5"
      }
    },
    {
      "cell_type": "markdown",
      "source": [
        "На примере пользователя с ***userId*** = *3* покажем, как разобъем данные на обучение и валидацию."
      ],
      "metadata": {
        "id": "p_4hB5rXOFlQ"
      }
    },
    {
      "cell_type": "markdown",
      "source": [
        "Отсортируем его данные по времени, когда он поставил оценку"
      ],
      "metadata": {
        "id": "xktYtMuR1BCj"
      }
    },
    {
      "cell_type": "code",
      "source": [
        "user = ratings[ratings['userId']==3].sort_values(by='timestamp', ascending=False)\n",
        "user"
      ],
      "metadata": {
        "colab": {
          "base_uri": "https://localhost:8080/",
          "height": 394
        },
        "id": "2LCs9SI3R8H_",
        "outputId": "ac2f985b-9290-46be-8202-ed9fd04ae39c"
      },
      "execution_count": null,
      "outputs": [
        {
          "output_type": "execute_result",
          "data": {
            "text/plain": [
              "    userId  movieId  rating  timestamp\n",
              "36       3     1645     4.0  945141611\n",
              "37       3     1825     3.0  945141611\n",
              "38       3     1985     2.0  945141611\n",
              "39       3     2024     3.0  945141611\n",
              "40       3     2028     5.0  945141611\n",
              "31       3      640     3.0  945141610\n",
              "32       3      828     4.0  945141610\n",
              "33       3      960     3.0  945141407\n",
              "34       3     1221     4.0  945141407\n",
              "35       3     1321     4.0  945141407\n",
              "41       3     3171     4.0  945141407"
            ],
            "text/html": [
              "\n",
              "  <div id=\"df-7e69fb70-ccfc-4f3b-93f3-5ff5fad40cc8\">\n",
              "    <div class=\"colab-df-container\">\n",
              "      <div>\n",
              "<style scoped>\n",
              "    .dataframe tbody tr th:only-of-type {\n",
              "        vertical-align: middle;\n",
              "    }\n",
              "\n",
              "    .dataframe tbody tr th {\n",
              "        vertical-align: top;\n",
              "    }\n",
              "\n",
              "    .dataframe thead th {\n",
              "        text-align: right;\n",
              "    }\n",
              "</style>\n",
              "<table border=\"1\" class=\"dataframe\">\n",
              "  <thead>\n",
              "    <tr style=\"text-align: right;\">\n",
              "      <th></th>\n",
              "      <th>userId</th>\n",
              "      <th>movieId</th>\n",
              "      <th>rating</th>\n",
              "      <th>timestamp</th>\n",
              "    </tr>\n",
              "  </thead>\n",
              "  <tbody>\n",
              "    <tr>\n",
              "      <th>36</th>\n",
              "      <td>3</td>\n",
              "      <td>1645</td>\n",
              "      <td>4.0</td>\n",
              "      <td>945141611</td>\n",
              "    </tr>\n",
              "    <tr>\n",
              "      <th>37</th>\n",
              "      <td>3</td>\n",
              "      <td>1825</td>\n",
              "      <td>3.0</td>\n",
              "      <td>945141611</td>\n",
              "    </tr>\n",
              "    <tr>\n",
              "      <th>38</th>\n",
              "      <td>3</td>\n",
              "      <td>1985</td>\n",
              "      <td>2.0</td>\n",
              "      <td>945141611</td>\n",
              "    </tr>\n",
              "    <tr>\n",
              "      <th>39</th>\n",
              "      <td>3</td>\n",
              "      <td>2024</td>\n",
              "      <td>3.0</td>\n",
              "      <td>945141611</td>\n",
              "    </tr>\n",
              "    <tr>\n",
              "      <th>40</th>\n",
              "      <td>3</td>\n",
              "      <td>2028</td>\n",
              "      <td>5.0</td>\n",
              "      <td>945141611</td>\n",
              "    </tr>\n",
              "    <tr>\n",
              "      <th>31</th>\n",
              "      <td>3</td>\n",
              "      <td>640</td>\n",
              "      <td>3.0</td>\n",
              "      <td>945141610</td>\n",
              "    </tr>\n",
              "    <tr>\n",
              "      <th>32</th>\n",
              "      <td>3</td>\n",
              "      <td>828</td>\n",
              "      <td>4.0</td>\n",
              "      <td>945141610</td>\n",
              "    </tr>\n",
              "    <tr>\n",
              "      <th>33</th>\n",
              "      <td>3</td>\n",
              "      <td>960</td>\n",
              "      <td>3.0</td>\n",
              "      <td>945141407</td>\n",
              "    </tr>\n",
              "    <tr>\n",
              "      <th>34</th>\n",
              "      <td>3</td>\n",
              "      <td>1221</td>\n",
              "      <td>4.0</td>\n",
              "      <td>945141407</td>\n",
              "    </tr>\n",
              "    <tr>\n",
              "      <th>35</th>\n",
              "      <td>3</td>\n",
              "      <td>1321</td>\n",
              "      <td>4.0</td>\n",
              "      <td>945141407</td>\n",
              "    </tr>\n",
              "    <tr>\n",
              "      <th>41</th>\n",
              "      <td>3</td>\n",
              "      <td>3171</td>\n",
              "      <td>4.0</td>\n",
              "      <td>945141407</td>\n",
              "    </tr>\n",
              "  </tbody>\n",
              "</table>\n",
              "</div>\n",
              "      <button class=\"colab-df-convert\" onclick=\"convertToInteractive('df-7e69fb70-ccfc-4f3b-93f3-5ff5fad40cc8')\"\n",
              "              title=\"Convert this dataframe to an interactive table.\"\n",
              "              style=\"display:none;\">\n",
              "        \n",
              "  <svg xmlns=\"http://www.w3.org/2000/svg\" height=\"24px\"viewBox=\"0 0 24 24\"\n",
              "       width=\"24px\">\n",
              "    <path d=\"M0 0h24v24H0V0z\" fill=\"none\"/>\n",
              "    <path d=\"M18.56 5.44l.94 2.06.94-2.06 2.06-.94-2.06-.94-.94-2.06-.94 2.06-2.06.94zm-11 1L8.5 8.5l.94-2.06 2.06-.94-2.06-.94L8.5 2.5l-.94 2.06-2.06.94zm10 10l.94 2.06.94-2.06 2.06-.94-2.06-.94-.94-2.06-.94 2.06-2.06.94z\"/><path d=\"M17.41 7.96l-1.37-1.37c-.4-.4-.92-.59-1.43-.59-.52 0-1.04.2-1.43.59L10.3 9.45l-7.72 7.72c-.78.78-.78 2.05 0 2.83L4 21.41c.39.39.9.59 1.41.59.51 0 1.02-.2 1.41-.59l7.78-7.78 2.81-2.81c.8-.78.8-2.07 0-2.86zM5.41 20L4 18.59l7.72-7.72 1.47 1.35L5.41 20z\"/>\n",
              "  </svg>\n",
              "      </button>\n",
              "      \n",
              "  <style>\n",
              "    .colab-df-container {\n",
              "      display:flex;\n",
              "      flex-wrap:wrap;\n",
              "      gap: 12px;\n",
              "    }\n",
              "\n",
              "    .colab-df-convert {\n",
              "      background-color: #E8F0FE;\n",
              "      border: none;\n",
              "      border-radius: 50%;\n",
              "      cursor: pointer;\n",
              "      display: none;\n",
              "      fill: #1967D2;\n",
              "      height: 32px;\n",
              "      padding: 0 0 0 0;\n",
              "      width: 32px;\n",
              "    }\n",
              "\n",
              "    .colab-df-convert:hover {\n",
              "      background-color: #E2EBFA;\n",
              "      box-shadow: 0px 1px 2px rgba(60, 64, 67, 0.3), 0px 1px 3px 1px rgba(60, 64, 67, 0.15);\n",
              "      fill: #174EA6;\n",
              "    }\n",
              "\n",
              "    [theme=dark] .colab-df-convert {\n",
              "      background-color: #3B4455;\n",
              "      fill: #D2E3FC;\n",
              "    }\n",
              "\n",
              "    [theme=dark] .colab-df-convert:hover {\n",
              "      background-color: #434B5C;\n",
              "      box-shadow: 0px 1px 3px 1px rgba(0, 0, 0, 0.15);\n",
              "      filter: drop-shadow(0px 1px 2px rgba(0, 0, 0, 0.3));\n",
              "      fill: #FFFFFF;\n",
              "    }\n",
              "  </style>\n",
              "\n",
              "      <script>\n",
              "        const buttonEl =\n",
              "          document.querySelector('#df-7e69fb70-ccfc-4f3b-93f3-5ff5fad40cc8 button.colab-df-convert');\n",
              "        buttonEl.style.display =\n",
              "          google.colab.kernel.accessAllowed ? 'block' : 'none';\n",
              "\n",
              "        async function convertToInteractive(key) {\n",
              "          const element = document.querySelector('#df-7e69fb70-ccfc-4f3b-93f3-5ff5fad40cc8');\n",
              "          const dataTable =\n",
              "            await google.colab.kernel.invokeFunction('convertToInteractive',\n",
              "                                                     [key], {});\n",
              "          if (!dataTable) return;\n",
              "\n",
              "          const docLinkHtml = 'Like what you see? Visit the ' +\n",
              "            '<a target=\"_blank\" href=https://colab.research.google.com/notebooks/data_table.ipynb>data table notebook</a>'\n",
              "            + ' to learn more about interactive tables.';\n",
              "          element.innerHTML = '';\n",
              "          dataTable['output_type'] = 'display_data';\n",
              "          await google.colab.output.renderOutput(dataTable, element);\n",
              "          const docLink = document.createElement('div');\n",
              "          docLink.innerHTML = docLinkHtml;\n",
              "          element.appendChild(docLink);\n",
              "        }\n",
              "      </script>\n",
              "    </div>\n",
              "  </div>\n",
              "  "
            ]
          },
          "metadata": {},
          "execution_count": 8
        }
      ]
    },
    {
      "cell_type": "markdown",
      "source": [
        "Идея состоит в том, что  у каждого пользователя мы достаем время когда он в последний раз ставил оценку фильму. Эта строчка и пойдет в валидацию. Тем самым мы не рушим временную последовательность в предсказаниях для каждого пользователя "
      ],
      "metadata": {
        "id": "63GLA14STaCZ"
      }
    },
    {
      "cell_type": "code",
      "source": [
        "user['rank'] = user.groupby(['userId'])['timestamp'].rank(method='first', ascending=False)\n",
        "user"
      ],
      "metadata": {
        "colab": {
          "base_uri": "https://localhost:8080/",
          "height": 394
        },
        "id": "i767OxgURifb",
        "outputId": "3337b7f7-7171-4fbb-c329-a57f053d7230"
      },
      "execution_count": null,
      "outputs": [
        {
          "output_type": "execute_result",
          "data": {
            "text/plain": [
              "    userId  movieId  rating  timestamp  rank\n",
              "36       3     1645     4.0  945141611   1.0\n",
              "37       3     1825     3.0  945141611   2.0\n",
              "38       3     1985     2.0  945141611   3.0\n",
              "39       3     2024     3.0  945141611   4.0\n",
              "40       3     2028     5.0  945141611   5.0\n",
              "31       3      640     3.0  945141610   6.0\n",
              "32       3      828     4.0  945141610   7.0\n",
              "33       3      960     3.0  945141407   8.0\n",
              "34       3     1221     4.0  945141407   9.0\n",
              "35       3     1321     4.0  945141407  10.0\n",
              "41       3     3171     4.0  945141407  11.0"
            ],
            "text/html": [
              "\n",
              "  <div id=\"df-f120e0cd-2fef-499f-aae6-eadbdbaee401\">\n",
              "    <div class=\"colab-df-container\">\n",
              "      <div>\n",
              "<style scoped>\n",
              "    .dataframe tbody tr th:only-of-type {\n",
              "        vertical-align: middle;\n",
              "    }\n",
              "\n",
              "    .dataframe tbody tr th {\n",
              "        vertical-align: top;\n",
              "    }\n",
              "\n",
              "    .dataframe thead th {\n",
              "        text-align: right;\n",
              "    }\n",
              "</style>\n",
              "<table border=\"1\" class=\"dataframe\">\n",
              "  <thead>\n",
              "    <tr style=\"text-align: right;\">\n",
              "      <th></th>\n",
              "      <th>userId</th>\n",
              "      <th>movieId</th>\n",
              "      <th>rating</th>\n",
              "      <th>timestamp</th>\n",
              "      <th>rank</th>\n",
              "    </tr>\n",
              "  </thead>\n",
              "  <tbody>\n",
              "    <tr>\n",
              "      <th>36</th>\n",
              "      <td>3</td>\n",
              "      <td>1645</td>\n",
              "      <td>4.0</td>\n",
              "      <td>945141611</td>\n",
              "      <td>1.0</td>\n",
              "    </tr>\n",
              "    <tr>\n",
              "      <th>37</th>\n",
              "      <td>3</td>\n",
              "      <td>1825</td>\n",
              "      <td>3.0</td>\n",
              "      <td>945141611</td>\n",
              "      <td>2.0</td>\n",
              "    </tr>\n",
              "    <tr>\n",
              "      <th>38</th>\n",
              "      <td>3</td>\n",
              "      <td>1985</td>\n",
              "      <td>2.0</td>\n",
              "      <td>945141611</td>\n",
              "      <td>3.0</td>\n",
              "    </tr>\n",
              "    <tr>\n",
              "      <th>39</th>\n",
              "      <td>3</td>\n",
              "      <td>2024</td>\n",
              "      <td>3.0</td>\n",
              "      <td>945141611</td>\n",
              "      <td>4.0</td>\n",
              "    </tr>\n",
              "    <tr>\n",
              "      <th>40</th>\n",
              "      <td>3</td>\n",
              "      <td>2028</td>\n",
              "      <td>5.0</td>\n",
              "      <td>945141611</td>\n",
              "      <td>5.0</td>\n",
              "    </tr>\n",
              "    <tr>\n",
              "      <th>31</th>\n",
              "      <td>3</td>\n",
              "      <td>640</td>\n",
              "      <td>3.0</td>\n",
              "      <td>945141610</td>\n",
              "      <td>6.0</td>\n",
              "    </tr>\n",
              "    <tr>\n",
              "      <th>32</th>\n",
              "      <td>3</td>\n",
              "      <td>828</td>\n",
              "      <td>4.0</td>\n",
              "      <td>945141610</td>\n",
              "      <td>7.0</td>\n",
              "    </tr>\n",
              "    <tr>\n",
              "      <th>33</th>\n",
              "      <td>3</td>\n",
              "      <td>960</td>\n",
              "      <td>3.0</td>\n",
              "      <td>945141407</td>\n",
              "      <td>8.0</td>\n",
              "    </tr>\n",
              "    <tr>\n",
              "      <th>34</th>\n",
              "      <td>3</td>\n",
              "      <td>1221</td>\n",
              "      <td>4.0</td>\n",
              "      <td>945141407</td>\n",
              "      <td>9.0</td>\n",
              "    </tr>\n",
              "    <tr>\n",
              "      <th>35</th>\n",
              "      <td>3</td>\n",
              "      <td>1321</td>\n",
              "      <td>4.0</td>\n",
              "      <td>945141407</td>\n",
              "      <td>10.0</td>\n",
              "    </tr>\n",
              "    <tr>\n",
              "      <th>41</th>\n",
              "      <td>3</td>\n",
              "      <td>3171</td>\n",
              "      <td>4.0</td>\n",
              "      <td>945141407</td>\n",
              "      <td>11.0</td>\n",
              "    </tr>\n",
              "  </tbody>\n",
              "</table>\n",
              "</div>\n",
              "      <button class=\"colab-df-convert\" onclick=\"convertToInteractive('df-f120e0cd-2fef-499f-aae6-eadbdbaee401')\"\n",
              "              title=\"Convert this dataframe to an interactive table.\"\n",
              "              style=\"display:none;\">\n",
              "        \n",
              "  <svg xmlns=\"http://www.w3.org/2000/svg\" height=\"24px\"viewBox=\"0 0 24 24\"\n",
              "       width=\"24px\">\n",
              "    <path d=\"M0 0h24v24H0V0z\" fill=\"none\"/>\n",
              "    <path d=\"M18.56 5.44l.94 2.06.94-2.06 2.06-.94-2.06-.94-.94-2.06-.94 2.06-2.06.94zm-11 1L8.5 8.5l.94-2.06 2.06-.94-2.06-.94L8.5 2.5l-.94 2.06-2.06.94zm10 10l.94 2.06.94-2.06 2.06-.94-2.06-.94-.94-2.06-.94 2.06-2.06.94z\"/><path d=\"M17.41 7.96l-1.37-1.37c-.4-.4-.92-.59-1.43-.59-.52 0-1.04.2-1.43.59L10.3 9.45l-7.72 7.72c-.78.78-.78 2.05 0 2.83L4 21.41c.39.39.9.59 1.41.59.51 0 1.02-.2 1.41-.59l7.78-7.78 2.81-2.81c.8-.78.8-2.07 0-2.86zM5.41 20L4 18.59l7.72-7.72 1.47 1.35L5.41 20z\"/>\n",
              "  </svg>\n",
              "      </button>\n",
              "      \n",
              "  <style>\n",
              "    .colab-df-container {\n",
              "      display:flex;\n",
              "      flex-wrap:wrap;\n",
              "      gap: 12px;\n",
              "    }\n",
              "\n",
              "    .colab-df-convert {\n",
              "      background-color: #E8F0FE;\n",
              "      border: none;\n",
              "      border-radius: 50%;\n",
              "      cursor: pointer;\n",
              "      display: none;\n",
              "      fill: #1967D2;\n",
              "      height: 32px;\n",
              "      padding: 0 0 0 0;\n",
              "      width: 32px;\n",
              "    }\n",
              "\n",
              "    .colab-df-convert:hover {\n",
              "      background-color: #E2EBFA;\n",
              "      box-shadow: 0px 1px 2px rgba(60, 64, 67, 0.3), 0px 1px 3px 1px rgba(60, 64, 67, 0.15);\n",
              "      fill: #174EA6;\n",
              "    }\n",
              "\n",
              "    [theme=dark] .colab-df-convert {\n",
              "      background-color: #3B4455;\n",
              "      fill: #D2E3FC;\n",
              "    }\n",
              "\n",
              "    [theme=dark] .colab-df-convert:hover {\n",
              "      background-color: #434B5C;\n",
              "      box-shadow: 0px 1px 3px 1px rgba(0, 0, 0, 0.15);\n",
              "      filter: drop-shadow(0px 1px 2px rgba(0, 0, 0, 0.3));\n",
              "      fill: #FFFFFF;\n",
              "    }\n",
              "  </style>\n",
              "\n",
              "      <script>\n",
              "        const buttonEl =\n",
              "          document.querySelector('#df-f120e0cd-2fef-499f-aae6-eadbdbaee401 button.colab-df-convert');\n",
              "        buttonEl.style.display =\n",
              "          google.colab.kernel.accessAllowed ? 'block' : 'none';\n",
              "\n",
              "        async function convertToInteractive(key) {\n",
              "          const element = document.querySelector('#df-f120e0cd-2fef-499f-aae6-eadbdbaee401');\n",
              "          const dataTable =\n",
              "            await google.colab.kernel.invokeFunction('convertToInteractive',\n",
              "                                                     [key], {});\n",
              "          if (!dataTable) return;\n",
              "\n",
              "          const docLinkHtml = 'Like what you see? Visit the ' +\n",
              "            '<a target=\"_blank\" href=https://colab.research.google.com/notebooks/data_table.ipynb>data table notebook</a>'\n",
              "            + ' to learn more about interactive tables.';\n",
              "          element.innerHTML = '';\n",
              "          dataTable['output_type'] = 'display_data';\n",
              "          await google.colab.output.renderOutput(dataTable, element);\n",
              "          const docLink = document.createElement('div');\n",
              "          docLink.innerHTML = docLinkHtml;\n",
              "          element.appendChild(docLink);\n",
              "        }\n",
              "      </script>\n",
              "    </div>\n",
              "  </div>\n",
              "  "
            ]
          },
          "metadata": {},
          "execution_count": 9
        }
      ]
    },
    {
      "cell_type": "markdown",
      "source": [
        "Реализуем это с помощью функции ***rank***, в параметрах укажем метод ***first*** и отсортируем по убыванию, тем самым мы награждаем единицой самое позднее время когда пользователь оценил фильм. Все строчки с ***rank*** = *1* пойдут на валидацию, все остальное на обучение  "
      ],
      "metadata": {
        "id": "teUdy9W5UH83"
      }
    },
    {
      "cell_type": "code",
      "source": [
        "ratings['rank'] = ratings.groupby(['userId'])['timestamp'].rank(method='first', ascending=False)"
      ],
      "metadata": {
        "id": "qghwTLobRcMK"
      },
      "execution_count": null,
      "outputs": []
    },
    {
      "cell_type": "code",
      "source": [
        "train_ratings = ratings[ratings['rank'] != 1]\n",
        "test_ratings = ratings[ratings['rank'] == 1]\n",
        "\n",
        "train_ratings = train_ratings.drop(columns=['rank'])\n",
        "test_ratings = test_ratings.drop(columns=['rank'])"
      ],
      "metadata": {
        "id": "FOMwsDnpRcJq"
      },
      "execution_count": null,
      "outputs": []
    },
    {
      "cell_type": "code",
      "source": [
        "print(f'Размер обучающих данных {train_ratings.shape}')\n",
        "print(f'Размер валидационных данных {test_ratings.shape}')"
      ],
      "metadata": {
        "colab": {
          "base_uri": "https://localhost:8080/"
        },
        "id": "jC_NkaxJRcEC",
        "outputId": "3cadc86d-42b0-4c25-885d-afbc8175413f"
      },
      "execution_count": null,
      "outputs": [
        {
          "output_type": "stream",
          "name": "stdout",
          "text": [
            "Размер обучающих данных (27470216, 4)\n",
            "Размер валидационных данных (283228, 4)\n"
          ]
        }
      ]
    },
    {
      "cell_type": "markdown",
      "source": [
        "## Создание датасета"
      ],
      "metadata": {
        "id": "wcSNvEzrZmb9"
      }
    },
    {
      "cell_type": "markdown",
      "source": [
        "Представим задачу в виде бинарной классификации. Если пользователь поставил оценку ниже *3*, то будем считать что фильм не понравился (***label*** = *0*), если выше, то (***label*** = *1*)"
      ],
      "metadata": {
        "id": "Kkke7WNaeQtQ"
      }
    },
    {
      "cell_type": "markdown",
      "source": [
        "Создадим класс кастомного датасета, который наследуется от ***torch.utils.data.Dataset*** "
      ],
      "metadata": {
        "id": "mJzYKC_baL9u"
      }
    },
    {
      "cell_type": "code",
      "source": [
        "class MovieLens(Dataset):\n",
        "  def __init__(self, data, threshold):\n",
        "      self.users, self.items, self.labels = self.get_dataset(data, threshold)\n",
        "  \n",
        "  def __len__(self):\n",
        "      return len(self.users)\n",
        "  \n",
        "  def __getitem__(self, idx):\n",
        "     return self.users[idx], self.items[idx], self.labels[idx]\n",
        "\n",
        "  def get_dataset(self, data, threshold):\n",
        "      users = []\n",
        "      items = []\n",
        "      labels = []\n",
        "\n",
        "      for user, item, rating in set(zip(data['userId'], data['movieId'], data['rating'])):\n",
        "          users.append(user)\n",
        "          items.append(item)\n",
        "          labels.append(float(rating/5 > threshold))\n",
        "\n",
        "      return torch.tensor(users), torch.tensor(items), torch.tensor(labels)"
      ],
      "metadata": {
        "id": "3B9iSAXURcBS"
      },
      "execution_count": null,
      "outputs": []
    },
    {
      "cell_type": "code",
      "source": [
        "train_set = MovieLens(data=train_ratings, threshold=0.5)\n",
        "test_set = MovieLens(data=test_ratings, threshold=0.5)"
      ],
      "metadata": {
        "id": "fhHliIc_Rb8N"
      },
      "execution_count": null,
      "outputs": []
    },
    {
      "cell_type": "code",
      "source": [
        "train_set = torch.save(train_set, 'train_set.pt')\n",
        "test_set = torch.save(test_set, 'test_set.pt')\n"
      ],
      "metadata": {
        "id": "j5rtTsoZixu8"
      },
      "execution_count": null,
      "outputs": []
    },
    {
      "cell_type": "code",
      "source": [
        "# train_data = DataLoader(train_set, batch_size=512, num_workers=1)\n",
        "\n",
        "# for sample in train_data:\n",
        "#     print(sample[0].shape)\n",
        "#     print(sample[1].shape)\n",
        "#     print(sample[2].shape)\n",
        "#     break"
      ],
      "metadata": {
        "colab": {
          "base_uri": "https://localhost:8080/"
        },
        "id": "M4pxReYGRb2y",
        "outputId": "9822f7e7-1f25-429a-bc07-7aba94e9a214"
      },
      "execution_count": null,
      "outputs": [
        {
          "output_type": "stream",
          "name": "stdout",
          "text": [
            "torch.Size([512])\n",
            "torch.Size([512])\n",
            "torch.Size([512])\n"
          ]
        }
      ]
    },
    {
      "cell_type": "markdown",
      "source": [
        "## Разработка архитектуры нейронной сети"
      ],
      "metadata": {
        "id": "DH1Ovj6s9wBg"
      }
    },
    {
      "cell_type": "markdown",
      "source": [
        "Эмбеддинги - это векторные представления слов. Логика заключается в том, что у похожих слов векторы должны не сильно различаться. То есть у пользователей, которые посмотрели одни и те же фильмы, расстояния между векторами должно быть минимальным. Также и с похожими фильмами.\n",
        "\n",
        "На вход нашей модели подадим эмбеддинги пользователей и фильмов. Далее мы их сконкатенируем, а после пропустим через два линейных слоя. В конце первого слоя будет стоять функция активации ***LeakyRelu***, а в конце модели сигмоида, которая даст вероятность того, что фильм может понравиться пользователю (*1*) или нет (*0*)"
      ],
      "metadata": {
        "id": "gxfJzXdC-Oxe"
      }
    },
    {
      "cell_type": "markdown",
      "source": [
        "![image.png](data:image/png;base64,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)"
      ],
      "metadata": {
        "id": "1YE4QHqlNtch"
      }
    },
    {
      "cell_type": "markdown",
      "source": [
        "Напишем модель нашей сети через библиотеку ***pytorch lightning***"
      ],
      "metadata": {
        "id": "D-h_aHkPB70g"
      }
    },
    {
      "cell_type": "code",
      "source": [
        "class RecSysNetwork(pl.LightningModule):\n",
        "    def __init__(self, n_users, n_items,train_set, test_set, embedding_dim = 16):\n",
        "        super().__init__()\n",
        "\n",
        "        self.users_embedding = nn.Embedding(num_embeddings=n_users, embedding_dim=embedding_dim)\n",
        "        self.items_embedding = nn.Embedding(num_embeddings=n_items, embedding_dim=embedding_dim)\n",
        "        \n",
        "        self.linear1 = nn.Linear(embedding_dim*2, 16)\n",
        "        self.linear2 = nn.Linear(16, 1)\n",
        "\n",
        "        self.act1 = nn.LeakyReLU()\n",
        "        self.act2 = nn.Sigmoid()\n",
        "\n",
        "        self.loss_fn = nn.BCELoss()\n",
        "\n",
        "        self.train_set = train_set\n",
        "        self.test_set = test_set\n",
        "\n",
        "        self.save_hyperparameters(logger=False)\n",
        "\n",
        "\n",
        "    def forward(self, users, items):\n",
        "\n",
        "        users_embedding = self.users_embedding(users)\n",
        "        items_embedding = self.items_embedding(items)\n",
        "        \n",
        "        out = torch.cat([users_embedding, items_embedding], dim=-1)\n",
        "\n",
        "        out = self.linear1(out)\n",
        "        out = self.act1(out)\n",
        "\n",
        "        out = self.linear2(out)\n",
        "        out = self.act2(out)\n",
        "\n",
        "        return out\n",
        "\n",
        "    def configure_optimizers(self):\n",
        "    \n",
        "        return torch.optim.Adam(self.parameters(), lr=1e-3)\n",
        "\n",
        "    def training_step (self, batch, batch_idx):\n",
        "        \n",
        "        users, items, labels = batch\n",
        "        pred = self(users, items)\n",
        "        \n",
        "        loss = self.loss_fn(pred, labels.view(-1, 1).float())\n",
        "        self.log(\"train_loss\", loss, prog_bar=True, on_step=False, on_epoch=True)\n",
        "        \n",
        "        return loss\n",
        "\n",
        "    def validation_step(self, batch, batch_idx):\n",
        "\n",
        "        users, items, labels = batch\n",
        "        pred = self.forward(users, items)\n",
        "        \n",
        "        loss = self.loss_fn(pred, labels.view(-1, 1).float())\n",
        "        self.log(\"val_loss\", loss, prog_bar=True, on_step=False, on_epoch=True)\n",
        "\n",
        "    def train_dataloader(self):\n",
        "        return DataLoader(self.train_set, batch_size=512, num_workers=1)\n",
        "\n",
        "    def val_dataloader(self):\n",
        "        return DataLoader(self.test_set, batch_size=512, num_workers=1)\n"
      ],
      "metadata": {
        "id": "aLEkHFFrRbxh"
      },
      "execution_count": null,
      "outputs": []
    },
    {
      "cell_type": "markdown",
      "source": [
        "### Обучение"
      ],
      "metadata": {
        "id": "J2njKj69YAxD"
      }
    },
    {
      "cell_type": "markdown",
      "source": [
        "Обучим модель и сразу же сохраним к себе на диск его веса"
      ],
      "metadata": {
        "id": "19RY_d0e1uuJ"
      }
    },
    {
      "cell_type": "code",
      "source": [
        "n_users = ratings.userId.max() + 1\n",
        "n_items = ratings['movieId'].max() +1\n",
        "\n",
        "PATH_to_save = f\"/content/drive/My Drive/My_save_models/RecSysNetwork/checkpoint\"\n",
        "\n",
        "model = RecSysNetwork(n_users=n_users,\n",
        "                      n_items=n_items, \n",
        "                      train_set = train_set,\n",
        "                      test_set = test_set)\n",
        "\n",
        "trainer = pl.Trainer(accelerator='cuda', max_epochs=5,\n",
        "                      default_root_dir=PATH_to_save)\n",
        "trainer.fit(model)\n",
        "trainer.validate(model)"
      ],
      "metadata": {
        "id": "oRNvTs-qRbup",
        "colab": {
          "base_uri": "https://localhost:8080/",
          "height": 580,
          "referenced_widgets": [
            "3c8f88bc19f141688d0d1af2f2994638",
            "1362785767a24118a28f73166d07b19c",
            "04adee193bb44989bcedb056534c62bb",
            "88de895b3bc94304a6ef07d175fa1732",
            "540e60def159487ca7316c3baf69bc54",
            "a8091c719ef84cb6b0093122433cbb5f",
            "adc90cbc93ec4b8ca7ab2c37717347a3",
            "610bba48afb24b6fb7a565b115b17962",
            "ad51c22d6f004c1582b388766c9e8eb9",
            "d4f36cedbffa4411aff8db601e60920c",
            "dd84c7c219ea4161b331c7f904ec897f",
            "b49421ca30324b00bdf024b74acb06c1",
            "a0524e26bd7d4d8187a3c14575212aed",
            "3d647e9888c740bf8ce0b7f655f2ad5b",
            "5d8717ad19b246d99a4c93d5b4c2d7cf",
            "c22d0a9575e94b5686242bd10eed5870",
            "bc63e9333a584de7a045423cf3cbfbd5",
            "7a87925e56bb49d390647870e2a82217",
            "9551169b3fe545ad95c33f4b106fd43e",
            "092e71b551904e0d8ac4cbd254406b54",
            "17e167585adc49af91bd4dbc77ef5858",
            "535066eea1c2482e9ec27b9e6474cb9b",
            "4c2bdf0fca9f40adac40f7887eedb216",
            "c7600b1d51444876a67ba2ba14387c9f",
            "130ecdc575fb4850b42b4e3998c858e8",
            "5b98d3ab4f07441682fcd8421ff57f22",
            "1890584c03ee46ecb02b5f3ac97bfa48",
            "4bbc4a0850fb4f3fbc7ff5ee567cc272",
            "46bf68466c9c4041973a1ccb5aa6007f",
            "795467da61dc4458bffbd8b554903952",
            "fcfcfb8a75f146e4a9ab2da8a907af43",
            "d5645f1d0a2b4a0fbd3575510f2c586b",
            "603aad5dbd8d4c5a82ce6fd7c61e6cf4",
            "294960926d06415cbc4dbe2300166e12",
            "8e22625bc2fe466e8fdd4bb43554b50c",
            "33a81f617ae44d0aafcf8390cf9069ee",
            "c098497018fc429ea1b2517a6f3190f9",
            "593728dbba6f4727aced8f7e00c0dbfb",
            "d6ff0dedfff84193b40447298be35b1e",
            "dd4d74c0480c41bf96010b2b40d959d8",
            "6dca20c730f34376a7dd1e4549d0e6e3",
            "1921451f93ce4b179da85f742f3dcc25",
            "db3b10a062a74bbb8c20f039f9e028b5",
            "e6e48b73cea74ea2bd5ccc4ed669724d",
            "0c495989c4074fe5ba838a0f52dfd367",
            "186a53f561d74fe9b0e413505e759f7c",
            "de8ffdf4efc34d0489148f9614948876",
            "85d1e96ebc9c479799af6013b4066307",
            "1aff314cb9714a08b066cceefb94c0ec",
            "0b5e2cd8fca04f8a8604fe6f03940316",
            "606fb9ec7b124686a4b9313f5b5ca0b9",
            "ac86bde46db94170b1b17467ef7145e5",
            "bea4628390d8481196bb99a40abb5fb3",
            "a9470048c9e147288eea9c929e34912e",
            "37830b86c97148cf803b31c4a137aa9e",
            "a74f75cdf2cf4ec7af04d786113ba94a",
            "37db2800f30e4ece90705f2cfab22ae6",
            "31576e0584b040978cc5d0cb9544d86b",
            "a8cc840e752243389c1eab4084e6a770",
            "769d6c0758f84d78ab5ecf3971a5aa33",
            "59ecb1dff6334ce79b6c76274efb260f",
            "75be88c18b08450596fca54493f9b5c3",
            "e543ffd431bb47df9cdf4e8084a45d99",
            "8a26760f4db744db9e39afafe7d5c3bd",
            "69e2e4f679c14685b55f91bce2a8cdb8",
            "931540a6a404434bad4327848d69f49a",
            "09305c9bcf8e4d2d932536df88396ad8",
            "35453be9da124b7591bdd8ce595bfe14",
            "9d3c17202eb5433c9639c64a55393e5d",
            "b2ca9eff8c684ac3ac1c9a024ba77291",
            "418c2e1aa0714e8f994a5a22864e13d1",
            "12fdc504feac4a66b34e2997dcf50b8c",
            "2d5fc2f0645642f2953a3960f3250b12",
            "bde15ff865c44668a18302f7c6eac074",
            "f31679730f92427cbc337abc1767bf1c",
            "7a7b832f63f742408d3089c1e5f18732",
            "81a8f1821d324b908beedd73df4b4ca7",
            "d2b5f86a6c3f45b9b54a9c463275de7c",
            "fad86d4e82b4402b9b7523bb720eef84",
            "b0038228bc374d1dac530311ed56a340",
            "056d5fd5189844abad713eba2b0b2c3d",
            "ce86e9096afc422e8b8b93181c822663",
            "7a1e450456d748aeb7bf5090f3ae2914",
            "b011a65f790241239ef04887faec9cfb",
            "9edeb7ee873c44a495ab6030c0656dcd",
            "38570c69eafe4bbd893c0b24a22f2ee4",
            "1cc401908b874db98dbcd06b4983f1fa",
            "4075bdcaf6994cf98ef5b883abac1ce6"
          ]
        },
        "outputId": "5dc62002-8195-4c4d-e403-95127ffb17d4"
      },
      "execution_count": null,
      "outputs": [
        {
          "output_type": "stream",
          "name": "stderr",
          "text": [
            "INFO:pytorch_lightning.utilities.rank_zero:GPU available: True (cuda), used: True\n",
            "INFO:pytorch_lightning.utilities.rank_zero:TPU available: False, using: 0 TPU cores\n",
            "INFO:pytorch_lightning.utilities.rank_zero:IPU available: False, using: 0 IPUs\n",
            "INFO:pytorch_lightning.utilities.rank_zero:HPU available: False, using: 0 HPUs\n",
            "WARNING:pytorch_lightning.loggers.tensorboard:Missing logger folder: /content/drive/My Drive/My_save_models/RecSysNetwork/checkpoint/lightning_logs\n",
            "INFO:pytorch_lightning.accelerators.cuda:LOCAL_RANK: 0 - CUDA_VISIBLE_DEVICES: [0]\n",
            "INFO:pytorch_lightning.callbacks.model_summary:\n",
            "  | Name            | Type      | Params\n",
            "----------------------------------------------\n",
            "0 | users_embedding | Embedding | 4.5 M \n",
            "1 | items_embedding | Embedding | 3.1 M \n",
            "2 | linear1         | Linear    | 528   \n",
            "3 | linear2         | Linear    | 17    \n",
            "4 | act1            | LeakyReLU | 0     \n",
            "5 | act2            | Sigmoid   | 0     \n",
            "6 | loss_fn         | BCELoss   | 0     \n",
            "----------------------------------------------\n",
            "7.6 M     Trainable params\n",
            "0         Non-trainable params\n",
            "7.6 M     Total params\n",
            "30.538    Total estimated model params size (MB)\n"
          ]
        },
        {
          "output_type": "display_data",
          "data": {
            "text/plain": [
              "Sanity Checking: 0it [00:00, ?it/s]"
            ],
            "application/vnd.jupyter.widget-view+json": {
              "version_major": 2,
              "version_minor": 0,
              "model_id": "3c8f88bc19f141688d0d1af2f2994638"
            }
          },
          "metadata": {}
        },
        {
          "output_type": "display_data",
          "data": {
            "text/plain": [
              "Training: 0it [00:00, ?it/s]"
            ],
            "application/vnd.jupyter.widget-view+json": {
              "version_major": 2,
              "version_minor": 0,
              "model_id": "b49421ca30324b00bdf024b74acb06c1"
            }
          },
          "metadata": {}
        },
        {
          "output_type": "display_data",
          "data": {
            "text/plain": [
              "Validation: 0it [00:00, ?it/s]"
            ],
            "application/vnd.jupyter.widget-view+json": {
              "version_major": 2,
              "version_minor": 0,
              "model_id": "4c2bdf0fca9f40adac40f7887eedb216"
            }
          },
          "metadata": {}
        },
        {
          "output_type": "display_data",
          "data": {
            "text/plain": [
              "Validation: 0it [00:00, ?it/s]"
            ],
            "application/vnd.jupyter.widget-view+json": {
              "version_major": 2,
              "version_minor": 0,
              "model_id": "294960926d06415cbc4dbe2300166e12"
            }
          },
          "metadata": {}
        },
        {
          "output_type": "display_data",
          "data": {
            "text/plain": [
              "Validation: 0it [00:00, ?it/s]"
            ],
            "application/vnd.jupyter.widget-view+json": {
              "version_major": 2,
              "version_minor": 0,
              "model_id": "0c495989c4074fe5ba838a0f52dfd367"
            }
          },
          "metadata": {}
        },
        {
          "output_type": "display_data",
          "data": {
            "text/plain": [
              "Validation: 0it [00:00, ?it/s]"
            ],
            "application/vnd.jupyter.widget-view+json": {
              "version_major": 2,
              "version_minor": 0,
              "model_id": "a74f75cdf2cf4ec7af04d786113ba94a"
            }
          },
          "metadata": {}
        },
        {
          "output_type": "display_data",
          "data": {
            "text/plain": [
              "Validation: 0it [00:00, ?it/s]"
            ],
            "application/vnd.jupyter.widget-view+json": {
              "version_major": 2,
              "version_minor": 0,
              "model_id": "09305c9bcf8e4d2d932536df88396ad8"
            }
          },
          "metadata": {}
        },
        {
          "output_type": "stream",
          "name": "stderr",
          "text": [
            "INFO:pytorch_lightning.utilities.rank_zero:`Trainer.fit` stopped: `max_epochs=5` reached.\n",
            "INFO:pytorch_lightning.accelerators.cuda:LOCAL_RANK: 0 - CUDA_VISIBLE_DEVICES: [0]\n"
          ]
        },
        {
          "output_type": "display_data",
          "data": {
            "text/plain": [
              "Validation: 0it [00:00, ?it/s]"
            ],
            "application/vnd.jupyter.widget-view+json": {
              "version_major": 2,
              "version_minor": 0,
              "model_id": "d2b5f86a6c3f45b9b54a9c463275de7c"
            }
          },
          "metadata": {}
        },
        {
          "output_type": "display_data",
          "data": {
            "text/plain": [
              "┏━━━━━━━━━━━━━━━━━━━━━━━━━━━┳━━━━━━━━━━━━━━━━━━━━━━━━━━━┓\n",
              "┃\u001b[1m \u001b[0m\u001b[1m     Validate metric     \u001b[0m\u001b[1m \u001b[0m┃\u001b[1m \u001b[0m\u001b[1m      DataLoader 0       \u001b[0m\u001b[1m \u001b[0m┃\n",
              "┡━━━━━━━━━━━━━━━━━━━━━━━━━━━╇━━━━━━━━━━━━━━━━━━━━━━━━━━━┩\n",
              "│\u001b[36m \u001b[0m\u001b[36m        val_loss         \u001b[0m\u001b[36m \u001b[0m│\u001b[35m \u001b[0m\u001b[35m   0.3764493465423584    \u001b[0m\u001b[35m \u001b[0m│\n",
              "└───────────────────────────┴───────────────────────────┘\n"
            ],
            "text/html": [
              "<pre style=\"white-space:pre;overflow-x:auto;line-height:normal;font-family:Menlo,'DejaVu Sans Mono',consolas,'Courier New',monospace\">┏━━━━━━━━━━━━━━━━━━━━━━━━━━━┳━━━━━━━━━━━━━━━━━━━━━━━━━━━┓\n",
              "┃<span style=\"font-weight: bold\">      Validate metric      </span>┃<span style=\"font-weight: bold\">       DataLoader 0        </span>┃\n",
              "┡━━━━━━━━━━━━━━━━━━━━━━━━━━━╇━━━━━━━━━━━━━━━━━━━━━━━━━━━┩\n",
              "│<span style=\"color: #008080; text-decoration-color: #008080\">         val_loss          </span>│<span style=\"color: #800080; text-decoration-color: #800080\">    0.3764493465423584     </span>│\n",
              "└───────────────────────────┴───────────────────────────┘\n",
              "</pre>\n"
            ]
          },
          "metadata": {}
        },
        {
          "output_type": "execute_result",
          "data": {
            "text/plain": [
              "[{'val_loss': 0.3764493465423584}]"
            ]
          },
          "metadata": {},
          "execution_count": 12
        }
      ]
    },
    {
      "cell_type": "markdown",
      "source": [
        "Загрузим веса модели из диска"
      ],
      "metadata": {
        "id": "rUE30m2s10jQ"
      }
    },
    {
      "cell_type": "code",
      "source": [
        "import os\n",
        "\n",
        "PATH_to_load = './drive/MyDrive/My_save_models/RecSysNetwork/checkpoint/lightning_logs/version_0/checkpoints/'\n",
        "chekpoint_path = os.path.join(PATH_to_load, os.listdir(PATH_to_load)[0])\n",
        "\n",
        "model = RecSysNetwork.load_from_checkpoint(chekpoint_path, map_location=torch.device('cpu')) # Перевел модель на cpu, т.к. превысил лимит работы с gpu((( "
      ],
      "metadata": {
        "id": "HlbTZE_lRbrx"
      },
      "execution_count": null,
      "outputs": []
    },
    {
      "cell_type": "markdown",
      "source": [
        "## Метрика ранжирования"
      ],
      "metadata": {
        "id": "ZaTvuVYF144i"
      }
    },
    {
      "cell_type": "markdown",
      "source": [
        "###Hit Ratio @ k"
      ],
      "metadata": {
        "id": "O76JfVlf2C3I"
      }
    },
    {
      "cell_type": "markdown",
      "source": [
        "Будем использовать метрику ***Hit Ratio @ k***\n",
        "\n",
        "Логика ее работы заключается в том, что если среди топ ***k*** предсказаний модели будут фильмы из тестового набора, то значит рекомендация хорошая и метрика равна *1*, если фильмов из тестового набора нет, то предполагается, что рекомендации нам не подойдут и метрика будет равна *0*. Далее считается среднее из набора *1* и *0*. И это будет итоговая метрика модели. "
      ],
      "metadata": {
        "id": "gOfsDpyA2HqI"
      }
    },
    {
      "cell_type": "markdown",
      "source": [
        "Но можно эту метрику модифицировать. Моя модель предсказывает фильмы, которые могут понравиться пользователю, а ***Hit Ratio @ k*** по умолчанию предполагает, что просмотренные фильмы понравились пользователю. "
      ],
      "metadata": {
        "id": "Z2AA5S9Y3zjB"
      }
    },
    {
      "cell_type": "markdown",
      "source": [
        "К примеру, представим, что пользователю не понравился последний просмотренный фильм и он поставил ему низкую оценку. Если модель в топ *k* рекомендациях высветит этот фильм, то метрика будет равна 1, что по сути является недочетом.\n",
        "\n",
        "Поэтому мы немного усложним ***Hit Ratio @ k***, он будет давать единицу в двух случаях: \n",
        "\n",
        "\n",
        "1.   Фильм из тестового набора понравился и он попал в рекомендацию \n",
        "2.   Фильм из тестового набора не понравился и он не попал в рекомендацию \n",
        "\n",
        "В остальных случаях ***Hit Ratio @ k***=0\n",
        "\n"
      ],
      "metadata": {
        "id": "NKxJyhub4b-Y"
      }
    },
    {
      "cell_type": "code",
      "source": [
        "test_set = set(zip(test_ratings['userId'], test_ratings['movieId']))\n",
        "user_watch_films = ratings.groupby(['userId'])['movieId'].apply(list).to_dict()\n",
        "all_movies = ratings['movieId'].unique()\n",
        "\n",
        "device = torch.device('cuda:0' if torch.cuda.is_available() else 'cpu')"
      ],
      "metadata": {
        "id": "E0abN85Q18c9"
      },
      "execution_count": null,
      "outputs": []
    },
    {
      "cell_type": "code",
      "source": [
        "def hit_ratio_k(k:int, model, movies, ratings, test_data, threshold:int):\n",
        "    \n",
        "    hits = []\n",
        "    model = model.to(device)\n",
        "\n",
        "    for (user, item) in test_data:\n",
        "        not_watch_films = set(movies) - set(user_watch_films[user])\n",
        "        not_watch_films = np.random.choice(list(not_watch_films), 99)\n",
        "        rating = ratings[(ratings['userId'] == user) & \n",
        "                        (ratings['movieId'] == item)]\\\n",
        "                          ['rating'].values[0]\n",
        "\n",
        "        test_items = list(not_watch_films) + [item]\n",
        "        pred = np.squeeze(model(torch.tensor([user]*100).to(device),\n",
        "                                torch.tensor(test_items).to(device))\\\n",
        "                                .cpu().detach().numpy())\n",
        "        \n",
        "        top_k_films = [test_items[i] for i in np.argsort(pred)[::-1][0:k].tolist()]\n",
        "\n",
        "        if (rating / 5 > threshold) and (item in top_k_films):\n",
        "            hits.append(1)\n",
        "        \n",
        "        elif (rating / 5 < threshold) and (item not in top_k_films):\n",
        "            hits.append(1)\n",
        "        \n",
        "        else:\n",
        "            hits.append(0)\n",
        "        \n",
        "    return f\"Hit ratio @ {k} = {np.mean(hits)}\"\n",
        "     "
      ],
      "metadata": {
        "id": "Qm7CFS9i18Un"
      },
      "execution_count": null,
      "outputs": []
    },
    {
      "cell_type": "code",
      "source": [
        "hit_ratio_k(k=10, model=model,\n",
        "            movies=all_movies,\n",
        "            ratings=ratings,\n",
        "            test_data=test_set,\n",
        "            threshold=0.5)"
      ],
      "metadata": {
        "colab": {
          "base_uri": "https://localhost:8080/",
          "height": 35
        },
        "id": "8fz2en1wqVoK",
        "outputId": "04b51d0c-933c-4899-f6ae-74a8e7b8f1c5"
      },
      "execution_count": null,
      "outputs": [
        {
          "output_type": "execute_result",
          "data": {
            "text/plain": [
              "'Hit ratio @ 10 = 0.478'"
            ],
            "application/vnd.google.colaboratory.intrinsic+json": {
              "type": "string"
            }
          },
          "metadata": {},
          "execution_count": 67
        }
      ]
    },
    {
      "cell_type": "markdown",
      "source": [
        "Есть куда расти!)"
      ],
      "metadata": {
        "id": "ahUwpIIRy9mS"
      }
    }
  ]
}